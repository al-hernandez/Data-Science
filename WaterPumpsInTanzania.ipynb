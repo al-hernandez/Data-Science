{
 "cells": [
  {
   "cell_type": "markdown",
   "id": "d59331d6",
   "metadata": {},
   "source": [
    "# Water Pumps in Tanzania"
   ]
  },
  {
   "cell_type": "code",
   "execution_count": 1,
   "id": "93abd831",
   "metadata": {},
   "outputs": [],
   "source": [
    "import pandas as pd\n",
    "import numpy as np\n",
    "import matplotlib.pyplot as plt\n",
    "import seaborn as sns\n",
    "from sklearn.preprocessing import OneHotEncoder\n",
    "%matplotlib inline\n",
    "\n",
    "# Improves graphics visualization\n",
    "sns.set() "
   ]
  },
  {
   "cell_type": "markdown",
   "id": "6fdabe53",
   "metadata": {},
   "source": [
    "## Loading The Data"
   ]
  },
  {
   "cell_type": "code",
   "execution_count": 2,
   "id": "26335973",
   "metadata": {},
   "outputs": [],
   "source": [
    "# load the first dataset\n",
    "water = pd.read_csv('WaterPumpObservations.csv')"
   ]
  },
  {
   "cell_type": "code",
   "execution_count": 2,
   "id": "243c1e60",
   "metadata": {},
   "outputs": [],
   "source": [
    "# load the second dataset\n",
    "pumps = pd.read_csv('WaterPumps.csv')"
   ]
  },
  {
   "cell_type": "code",
   "execution_count": 8,
   "id": "e7f9642e",
   "metadata": {},
   "outputs": [
    {
     "data": {
      "text/html": [
       "<div>\n",
       "<style scoped>\n",
       "    .dataframe tbody tr th:only-of-type {\n",
       "        vertical-align: middle;\n",
       "    }\n",
       "\n",
       "    .dataframe tbody tr th {\n",
       "        vertical-align: top;\n",
       "    }\n",
       "\n",
       "    .dataframe thead th {\n",
       "        text-align: right;\n",
       "    }\n",
       "</style>\n",
       "<table border=\"1\" class=\"dataframe\">\n",
       "  <thead>\n",
       "    <tr style=\"text-align: right;\">\n",
       "      <th></th>\n",
       "      <th>id</th>\n",
       "      <th>amount_tsh</th>\n",
       "      <th>date_recorded</th>\n",
       "      <th>funder</th>\n",
       "      <th>gps_height</th>\n",
       "      <th>installer</th>\n",
       "      <th>longitude</th>\n",
       "      <th>latitude</th>\n",
       "      <th>wpt_name</th>\n",
       "      <th>num_private</th>\n",
       "      <th>...</th>\n",
       "      <th>payment_type</th>\n",
       "      <th>water_quality</th>\n",
       "      <th>quality_group</th>\n",
       "      <th>quantity</th>\n",
       "      <th>quantity_group</th>\n",
       "      <th>source</th>\n",
       "      <th>source_type</th>\n",
       "      <th>source_class</th>\n",
       "      <th>waterpoint_type</th>\n",
       "      <th>waterpoint_type_group</th>\n",
       "    </tr>\n",
       "  </thead>\n",
       "  <tbody>\n",
       "    <tr>\n",
       "      <th>0</th>\n",
       "      <td>69572</td>\n",
       "      <td>6000.0</td>\n",
       "      <td>2011-03-14</td>\n",
       "      <td>Roman</td>\n",
       "      <td>1390</td>\n",
       "      <td>Roman</td>\n",
       "      <td>34.938093</td>\n",
       "      <td>-9.856322</td>\n",
       "      <td>none</td>\n",
       "      <td>0</td>\n",
       "      <td>...</td>\n",
       "      <td>annually</td>\n",
       "      <td>soft</td>\n",
       "      <td>good</td>\n",
       "      <td>enough</td>\n",
       "      <td>enough</td>\n",
       "      <td>spring</td>\n",
       "      <td>spring</td>\n",
       "      <td>groundwater</td>\n",
       "      <td>communal standpipe</td>\n",
       "      <td>communal standpipe</td>\n",
       "    </tr>\n",
       "    <tr>\n",
       "      <th>1</th>\n",
       "      <td>8776</td>\n",
       "      <td>0.0</td>\n",
       "      <td>2013-03-06</td>\n",
       "      <td>Grumeti</td>\n",
       "      <td>1399</td>\n",
       "      <td>GRUMETI</td>\n",
       "      <td>34.698766</td>\n",
       "      <td>-2.147466</td>\n",
       "      <td>Zahanati</td>\n",
       "      <td>0</td>\n",
       "      <td>...</td>\n",
       "      <td>never pay</td>\n",
       "      <td>soft</td>\n",
       "      <td>good</td>\n",
       "      <td>insufficient</td>\n",
       "      <td>insufficient</td>\n",
       "      <td>rainwater harvesting</td>\n",
       "      <td>rainwater harvesting</td>\n",
       "      <td>surface</td>\n",
       "      <td>communal standpipe</td>\n",
       "      <td>communal standpipe</td>\n",
       "    </tr>\n",
       "    <tr>\n",
       "      <th>2</th>\n",
       "      <td>34310</td>\n",
       "      <td>25.0</td>\n",
       "      <td>2013-02-25</td>\n",
       "      <td>Lottery Club</td>\n",
       "      <td>686</td>\n",
       "      <td>World vision</td>\n",
       "      <td>37.460664</td>\n",
       "      <td>-3.821329</td>\n",
       "      <td>Kwa Mahundi</td>\n",
       "      <td>0</td>\n",
       "      <td>...</td>\n",
       "      <td>per bucket</td>\n",
       "      <td>soft</td>\n",
       "      <td>good</td>\n",
       "      <td>enough</td>\n",
       "      <td>enough</td>\n",
       "      <td>dam</td>\n",
       "      <td>dam</td>\n",
       "      <td>surface</td>\n",
       "      <td>communal standpipe multiple</td>\n",
       "      <td>communal standpipe</td>\n",
       "    </tr>\n",
       "    <tr>\n",
       "      <th>3</th>\n",
       "      <td>67743</td>\n",
       "      <td>0.0</td>\n",
       "      <td>2013-01-28</td>\n",
       "      <td>Unicef</td>\n",
       "      <td>263</td>\n",
       "      <td>UNICEF</td>\n",
       "      <td>38.486161</td>\n",
       "      <td>-11.155298</td>\n",
       "      <td>Zahanati Ya Nanyumbu</td>\n",
       "      <td>0</td>\n",
       "      <td>...</td>\n",
       "      <td>never pay</td>\n",
       "      <td>soft</td>\n",
       "      <td>good</td>\n",
       "      <td>dry</td>\n",
       "      <td>dry</td>\n",
       "      <td>machine dbh</td>\n",
       "      <td>borehole</td>\n",
       "      <td>groundwater</td>\n",
       "      <td>communal standpipe multiple</td>\n",
       "      <td>communal standpipe</td>\n",
       "    </tr>\n",
       "    <tr>\n",
       "      <th>4</th>\n",
       "      <td>19728</td>\n",
       "      <td>0.0</td>\n",
       "      <td>2011-07-13</td>\n",
       "      <td>Action In A</td>\n",
       "      <td>0</td>\n",
       "      <td>Artisan</td>\n",
       "      <td>31.130847</td>\n",
       "      <td>-1.825359</td>\n",
       "      <td>Shuleni</td>\n",
       "      <td>0</td>\n",
       "      <td>...</td>\n",
       "      <td>never pay</td>\n",
       "      <td>soft</td>\n",
       "      <td>good</td>\n",
       "      <td>seasonal</td>\n",
       "      <td>seasonal</td>\n",
       "      <td>rainwater harvesting</td>\n",
       "      <td>rainwater harvesting</td>\n",
       "      <td>surface</td>\n",
       "      <td>communal standpipe</td>\n",
       "      <td>communal standpipe</td>\n",
       "    </tr>\n",
       "    <tr>\n",
       "      <th>5</th>\n",
       "      <td>9944</td>\n",
       "      <td>20.0</td>\n",
       "      <td>2011-03-13</td>\n",
       "      <td>Mkinga Distric Coun</td>\n",
       "      <td>0</td>\n",
       "      <td>DWE</td>\n",
       "      <td>39.172796</td>\n",
       "      <td>-4.765587</td>\n",
       "      <td>Tajiri</td>\n",
       "      <td>0</td>\n",
       "      <td>...</td>\n",
       "      <td>per bucket</td>\n",
       "      <td>salty</td>\n",
       "      <td>salty</td>\n",
       "      <td>enough</td>\n",
       "      <td>enough</td>\n",
       "      <td>other</td>\n",
       "      <td>other</td>\n",
       "      <td>unknown</td>\n",
       "      <td>communal standpipe multiple</td>\n",
       "      <td>communal standpipe</td>\n",
       "    </tr>\n",
       "    <tr>\n",
       "      <th>6</th>\n",
       "      <td>19816</td>\n",
       "      <td>0.0</td>\n",
       "      <td>2012-10-01</td>\n",
       "      <td>Dwsp</td>\n",
       "      <td>0</td>\n",
       "      <td>DWSP</td>\n",
       "      <td>33.362410</td>\n",
       "      <td>-3.766365</td>\n",
       "      <td>Kwa Ngomho</td>\n",
       "      <td>0</td>\n",
       "      <td>...</td>\n",
       "      <td>never pay</td>\n",
       "      <td>soft</td>\n",
       "      <td>good</td>\n",
       "      <td>enough</td>\n",
       "      <td>enough</td>\n",
       "      <td>machine dbh</td>\n",
       "      <td>borehole</td>\n",
       "      <td>groundwater</td>\n",
       "      <td>hand pump</td>\n",
       "      <td>hand pump</td>\n",
       "    </tr>\n",
       "    <tr>\n",
       "      <th>7</th>\n",
       "      <td>54551</td>\n",
       "      <td>0.0</td>\n",
       "      <td>2012-10-09</td>\n",
       "      <td>Rwssp</td>\n",
       "      <td>0</td>\n",
       "      <td>DWE</td>\n",
       "      <td>32.620617</td>\n",
       "      <td>-4.226198</td>\n",
       "      <td>Tushirikiane</td>\n",
       "      <td>0</td>\n",
       "      <td>...</td>\n",
       "      <td>unknown</td>\n",
       "      <td>milky</td>\n",
       "      <td>milky</td>\n",
       "      <td>enough</td>\n",
       "      <td>enough</td>\n",
       "      <td>shallow well</td>\n",
       "      <td>shallow well</td>\n",
       "      <td>groundwater</td>\n",
       "      <td>hand pump</td>\n",
       "      <td>hand pump</td>\n",
       "    </tr>\n",
       "    <tr>\n",
       "      <th>8</th>\n",
       "      <td>53934</td>\n",
       "      <td>0.0</td>\n",
       "      <td>2012-11-03</td>\n",
       "      <td>Wateraid</td>\n",
       "      <td>0</td>\n",
       "      <td>Water Aid</td>\n",
       "      <td>32.711100</td>\n",
       "      <td>-5.146712</td>\n",
       "      <td>Kwa Ramadhan Musa</td>\n",
       "      <td>0</td>\n",
       "      <td>...</td>\n",
       "      <td>never pay</td>\n",
       "      <td>salty</td>\n",
       "      <td>salty</td>\n",
       "      <td>seasonal</td>\n",
       "      <td>seasonal</td>\n",
       "      <td>machine dbh</td>\n",
       "      <td>borehole</td>\n",
       "      <td>groundwater</td>\n",
       "      <td>hand pump</td>\n",
       "      <td>hand pump</td>\n",
       "    </tr>\n",
       "    <tr>\n",
       "      <th>9</th>\n",
       "      <td>46144</td>\n",
       "      <td>0.0</td>\n",
       "      <td>2011-08-03</td>\n",
       "      <td>Isingiro Ho</td>\n",
       "      <td>0</td>\n",
       "      <td>Artisan</td>\n",
       "      <td>30.626991</td>\n",
       "      <td>-1.257051</td>\n",
       "      <td>Kwapeto</td>\n",
       "      <td>0</td>\n",
       "      <td>...</td>\n",
       "      <td>never pay</td>\n",
       "      <td>soft</td>\n",
       "      <td>good</td>\n",
       "      <td>enough</td>\n",
       "      <td>enough</td>\n",
       "      <td>shallow well</td>\n",
       "      <td>shallow well</td>\n",
       "      <td>groundwater</td>\n",
       "      <td>hand pump</td>\n",
       "      <td>hand pump</td>\n",
       "    </tr>\n",
       "  </tbody>\n",
       "</table>\n",
       "<p>10 rows × 40 columns</p>\n",
       "</div>"
      ],
      "text/plain": [
       "      id  amount_tsh date_recorded               funder  gps_height  \\\n",
       "0  69572      6000.0    2011-03-14                Roman        1390   \n",
       "1   8776         0.0    2013-03-06              Grumeti        1399   \n",
       "2  34310        25.0    2013-02-25         Lottery Club         686   \n",
       "3  67743         0.0    2013-01-28               Unicef         263   \n",
       "4  19728         0.0    2011-07-13          Action In A           0   \n",
       "5   9944        20.0    2011-03-13  Mkinga Distric Coun           0   \n",
       "6  19816         0.0    2012-10-01                 Dwsp           0   \n",
       "7  54551         0.0    2012-10-09                Rwssp           0   \n",
       "8  53934         0.0    2012-11-03             Wateraid           0   \n",
       "9  46144         0.0    2011-08-03          Isingiro Ho           0   \n",
       "\n",
       "      installer  longitude   latitude              wpt_name  num_private  ...  \\\n",
       "0         Roman  34.938093  -9.856322                  none            0  ...   \n",
       "1       GRUMETI  34.698766  -2.147466              Zahanati            0  ...   \n",
       "2  World vision  37.460664  -3.821329           Kwa Mahundi            0  ...   \n",
       "3        UNICEF  38.486161 -11.155298  Zahanati Ya Nanyumbu            0  ...   \n",
       "4       Artisan  31.130847  -1.825359               Shuleni            0  ...   \n",
       "5           DWE  39.172796  -4.765587                Tajiri            0  ...   \n",
       "6          DWSP  33.362410  -3.766365            Kwa Ngomho            0  ...   \n",
       "7           DWE  32.620617  -4.226198          Tushirikiane            0  ...   \n",
       "8     Water Aid  32.711100  -5.146712     Kwa Ramadhan Musa            0  ...   \n",
       "9       Artisan  30.626991  -1.257051               Kwapeto            0  ...   \n",
       "\n",
       "  payment_type water_quality quality_group      quantity  quantity_group  \\\n",
       "0     annually          soft          good        enough          enough   \n",
       "1    never pay          soft          good  insufficient    insufficient   \n",
       "2   per bucket          soft          good        enough          enough   \n",
       "3    never pay          soft          good           dry             dry   \n",
       "4    never pay          soft          good      seasonal        seasonal   \n",
       "5   per bucket         salty         salty        enough          enough   \n",
       "6    never pay          soft          good        enough          enough   \n",
       "7      unknown         milky         milky        enough          enough   \n",
       "8    never pay         salty         salty      seasonal        seasonal   \n",
       "9    never pay          soft          good        enough          enough   \n",
       "\n",
       "                 source           source_type  source_class  \\\n",
       "0                spring                spring   groundwater   \n",
       "1  rainwater harvesting  rainwater harvesting       surface   \n",
       "2                   dam                   dam       surface   \n",
       "3           machine dbh              borehole   groundwater   \n",
       "4  rainwater harvesting  rainwater harvesting       surface   \n",
       "5                 other                 other       unknown   \n",
       "6           machine dbh              borehole   groundwater   \n",
       "7          shallow well          shallow well   groundwater   \n",
       "8           machine dbh              borehole   groundwater   \n",
       "9          shallow well          shallow well   groundwater   \n",
       "\n",
       "               waterpoint_type waterpoint_type_group  \n",
       "0           communal standpipe    communal standpipe  \n",
       "1           communal standpipe    communal standpipe  \n",
       "2  communal standpipe multiple    communal standpipe  \n",
       "3  communal standpipe multiple    communal standpipe  \n",
       "4           communal standpipe    communal standpipe  \n",
       "5  communal standpipe multiple    communal standpipe  \n",
       "6                    hand pump             hand pump  \n",
       "7                    hand pump             hand pump  \n",
       "8                    hand pump             hand pump  \n",
       "9                    hand pump             hand pump  \n",
       "\n",
       "[10 rows x 40 columns]"
      ]
     },
     "execution_count": 8,
     "metadata": {},
     "output_type": "execute_result"
    }
   ],
   "source": [
    "# checking that the dataset was correctly loaded\n",
    "water.head(10)"
   ]
  },
  {
   "cell_type": "code",
   "execution_count": 3,
   "id": "e9973429",
   "metadata": {},
   "outputs": [
    {
     "data": {
      "text/html": [
       "<div>\n",
       "<style scoped>\n",
       "    .dataframe tbody tr th:only-of-type {\n",
       "        vertical-align: middle;\n",
       "    }\n",
       "\n",
       "    .dataframe tbody tr th {\n",
       "        vertical-align: top;\n",
       "    }\n",
       "\n",
       "    .dataframe thead th {\n",
       "        text-align: right;\n",
       "    }\n",
       "</style>\n",
       "<table border=\"1\" class=\"dataframe\">\n",
       "  <thead>\n",
       "    <tr style=\"text-align: right;\">\n",
       "      <th></th>\n",
       "      <th>id</th>\n",
       "      <th>status_group</th>\n",
       "    </tr>\n",
       "  </thead>\n",
       "  <tbody>\n",
       "    <tr>\n",
       "      <th>0</th>\n",
       "      <td>69572</td>\n",
       "      <td>functional</td>\n",
       "    </tr>\n",
       "    <tr>\n",
       "      <th>1</th>\n",
       "      <td>8776</td>\n",
       "      <td>functional</td>\n",
       "    </tr>\n",
       "    <tr>\n",
       "      <th>2</th>\n",
       "      <td>34310</td>\n",
       "      <td>functional</td>\n",
       "    </tr>\n",
       "    <tr>\n",
       "      <th>3</th>\n",
       "      <td>67743</td>\n",
       "      <td>non functional</td>\n",
       "    </tr>\n",
       "    <tr>\n",
       "      <th>4</th>\n",
       "      <td>19728</td>\n",
       "      <td>functional</td>\n",
       "    </tr>\n",
       "    <tr>\n",
       "      <th>5</th>\n",
       "      <td>9944</td>\n",
       "      <td>functional</td>\n",
       "    </tr>\n",
       "    <tr>\n",
       "      <th>6</th>\n",
       "      <td>19816</td>\n",
       "      <td>non functional</td>\n",
       "    </tr>\n",
       "    <tr>\n",
       "      <th>7</th>\n",
       "      <td>54551</td>\n",
       "      <td>non functional</td>\n",
       "    </tr>\n",
       "    <tr>\n",
       "      <th>8</th>\n",
       "      <td>53934</td>\n",
       "      <td>non functional</td>\n",
       "    </tr>\n",
       "    <tr>\n",
       "      <th>9</th>\n",
       "      <td>46144</td>\n",
       "      <td>functional</td>\n",
       "    </tr>\n",
       "  </tbody>\n",
       "</table>\n",
       "</div>"
      ],
      "text/plain": [
       "      id    status_group\n",
       "0  69572      functional\n",
       "1   8776      functional\n",
       "2  34310      functional\n",
       "3  67743  non functional\n",
       "4  19728      functional\n",
       "5   9944      functional\n",
       "6  19816  non functional\n",
       "7  54551  non functional\n",
       "8  53934  non functional\n",
       "9  46144      functional"
      ]
     },
     "execution_count": 3,
     "metadata": {},
     "output_type": "execute_result"
    }
   ],
   "source": [
    "# checking that the dataset was correctly loaded\n",
    "pumps.head(10)"
   ]
  },
  {
   "cell_type": "code",
   "execution_count": 10,
   "id": "9eabfe0a",
   "metadata": {},
   "outputs": [
    {
     "data": {
      "text/plain": [
       "(59400, 2)"
      ]
     },
     "execution_count": 10,
     "metadata": {},
     "output_type": "execute_result"
    }
   ],
   "source": [
    "water.shape\n",
    "pumps.shape"
   ]
  },
  {
   "cell_type": "code",
   "execution_count": 4,
   "id": "804a53e5",
   "metadata": {},
   "outputs": [],
   "source": [
    "# merge dataframes\n",
    "water_pumps_df = pd.merge(water, pumps)"
   ]
  },
  {
   "cell_type": "code",
   "execution_count": 5,
   "id": "8b8abc5d",
   "metadata": {},
   "outputs": [],
   "source": [
    "#Saving a new csv file with merged dataset\n",
    "water_pumps_df.to_csv('merged_water_pumps.csv')"
   ]
  },
  {
   "cell_type": "code",
   "execution_count": 7,
   "id": "57fce372",
   "metadata": {},
   "outputs": [
    {
     "name": "stdout",
     "output_type": "stream",
     "text": [
      "<class 'pandas.core.frame.DataFrame'>\n",
      "Int64Index: 59400 entries, 0 to 59399\n",
      "Data columns (total 41 columns):\n",
      " #   Column                 Non-Null Count  Dtype  \n",
      "---  ------                 --------------  -----  \n",
      " 0   id                     59400 non-null  int64  \n",
      " 1   amount_tsh             59400 non-null  float64\n",
      " 2   date_recorded          59400 non-null  object \n",
      " 3   funder                 55765 non-null  object \n",
      " 4   gps_height             59400 non-null  int64  \n",
      " 5   installer              55745 non-null  object \n",
      " 6   longitude              59400 non-null  float64\n",
      " 7   latitude               59400 non-null  float64\n",
      " 8   wpt_name               59400 non-null  object \n",
      " 9   num_private            59400 non-null  int64  \n",
      " 10  basin                  59400 non-null  object \n",
      " 11  subvillage             59029 non-null  object \n",
      " 12  region                 59400 non-null  object \n",
      " 13  region_code            59400 non-null  int64  \n",
      " 14  district_code          59400 non-null  int64  \n",
      " 15  lga                    59400 non-null  object \n",
      " 16  ward                   59400 non-null  object \n",
      " 17  population             59400 non-null  int64  \n",
      " 18  public_meeting         56066 non-null  object \n",
      " 19  recorded_by            59400 non-null  object \n",
      " 20  scheme_management      55523 non-null  object \n",
      " 21  scheme_name            31234 non-null  object \n",
      " 22  permit                 56344 non-null  object \n",
      " 23  construction_year      59400 non-null  int64  \n",
      " 24  extraction_type        59400 non-null  object \n",
      " 25  extraction_type_group  59400 non-null  object \n",
      " 26  extraction_type_class  59400 non-null  object \n",
      " 27  management             59400 non-null  object \n",
      " 28  management_group       59400 non-null  object \n",
      " 29  payment                59400 non-null  object \n",
      " 30  payment_type           59400 non-null  object \n",
      " 31  water_quality          59400 non-null  object \n",
      " 32  quality_group          59400 non-null  object \n",
      " 33  quantity               59400 non-null  object \n",
      " 34  quantity_group         59400 non-null  object \n",
      " 35  source                 59400 non-null  object \n",
      " 36  source_type            59400 non-null  object \n",
      " 37  source_class           59400 non-null  object \n",
      " 38  waterpoint_type        59400 non-null  object \n",
      " 39  waterpoint_type_group  59400 non-null  object \n",
      " 40  status_group           59400 non-null  object \n",
      "dtypes: float64(3), int64(7), object(31)\n",
      "memory usage: 19.0+ MB\n"
     ]
    }
   ],
   "source": [
    "water_pumps_df.info()"
   ]
  },
  {
   "cell_type": "code",
   "execution_count": 9,
   "id": "f8068e29",
   "metadata": {},
   "outputs": [
    {
     "data": {
      "text/html": [
       "<div>\n",
       "<style scoped>\n",
       "    .dataframe tbody tr th:only-of-type {\n",
       "        vertical-align: middle;\n",
       "    }\n",
       "\n",
       "    .dataframe tbody tr th {\n",
       "        vertical-align: top;\n",
       "    }\n",
       "\n",
       "    .dataframe thead th {\n",
       "        text-align: right;\n",
       "    }\n",
       "</style>\n",
       "<table border=\"1\" class=\"dataframe\">\n",
       "  <thead>\n",
       "    <tr style=\"text-align: right;\">\n",
       "      <th></th>\n",
       "      <th>count</th>\n",
       "      <th>mean</th>\n",
       "      <th>std</th>\n",
       "      <th>min</th>\n",
       "      <th>25%</th>\n",
       "      <th>50%</th>\n",
       "      <th>75%</th>\n",
       "      <th>max</th>\n",
       "    </tr>\n",
       "  </thead>\n",
       "  <tbody>\n",
       "    <tr>\n",
       "      <th>id</th>\n",
       "      <td>59400.0</td>\n",
       "      <td>37115.131768</td>\n",
       "      <td>21453.128371</td>\n",
       "      <td>0.00000</td>\n",
       "      <td>18519.750000</td>\n",
       "      <td>37061.500000</td>\n",
       "      <td>55656.500000</td>\n",
       "      <td>7.424700e+04</td>\n",
       "    </tr>\n",
       "    <tr>\n",
       "      <th>amount_tsh</th>\n",
       "      <td>59400.0</td>\n",
       "      <td>317.650385</td>\n",
       "      <td>2997.574558</td>\n",
       "      <td>0.00000</td>\n",
       "      <td>0.000000</td>\n",
       "      <td>0.000000</td>\n",
       "      <td>20.000000</td>\n",
       "      <td>3.500000e+05</td>\n",
       "    </tr>\n",
       "    <tr>\n",
       "      <th>gps_height</th>\n",
       "      <td>59400.0</td>\n",
       "      <td>668.297239</td>\n",
       "      <td>693.116350</td>\n",
       "      <td>-90.00000</td>\n",
       "      <td>0.000000</td>\n",
       "      <td>369.000000</td>\n",
       "      <td>1319.250000</td>\n",
       "      <td>2.770000e+03</td>\n",
       "    </tr>\n",
       "    <tr>\n",
       "      <th>longitude</th>\n",
       "      <td>59400.0</td>\n",
       "      <td>34.077427</td>\n",
       "      <td>6.567432</td>\n",
       "      <td>0.00000</td>\n",
       "      <td>33.090347</td>\n",
       "      <td>34.908743</td>\n",
       "      <td>37.178387</td>\n",
       "      <td>4.034519e+01</td>\n",
       "    </tr>\n",
       "    <tr>\n",
       "      <th>latitude</th>\n",
       "      <td>59400.0</td>\n",
       "      <td>-5.706033</td>\n",
       "      <td>2.946019</td>\n",
       "      <td>-11.64944</td>\n",
       "      <td>-8.540621</td>\n",
       "      <td>-5.021597</td>\n",
       "      <td>-3.326156</td>\n",
       "      <td>-2.000000e-08</td>\n",
       "    </tr>\n",
       "    <tr>\n",
       "      <th>num_private</th>\n",
       "      <td>59400.0</td>\n",
       "      <td>0.474141</td>\n",
       "      <td>12.236230</td>\n",
       "      <td>0.00000</td>\n",
       "      <td>0.000000</td>\n",
       "      <td>0.000000</td>\n",
       "      <td>0.000000</td>\n",
       "      <td>1.776000e+03</td>\n",
       "    </tr>\n",
       "    <tr>\n",
       "      <th>region_code</th>\n",
       "      <td>59400.0</td>\n",
       "      <td>15.297003</td>\n",
       "      <td>17.587406</td>\n",
       "      <td>1.00000</td>\n",
       "      <td>5.000000</td>\n",
       "      <td>12.000000</td>\n",
       "      <td>17.000000</td>\n",
       "      <td>9.900000e+01</td>\n",
       "    </tr>\n",
       "    <tr>\n",
       "      <th>district_code</th>\n",
       "      <td>59400.0</td>\n",
       "      <td>5.629747</td>\n",
       "      <td>9.633649</td>\n",
       "      <td>0.00000</td>\n",
       "      <td>2.000000</td>\n",
       "      <td>3.000000</td>\n",
       "      <td>5.000000</td>\n",
       "      <td>8.000000e+01</td>\n",
       "    </tr>\n",
       "    <tr>\n",
       "      <th>population</th>\n",
       "      <td>59400.0</td>\n",
       "      <td>179.909983</td>\n",
       "      <td>471.482176</td>\n",
       "      <td>0.00000</td>\n",
       "      <td>0.000000</td>\n",
       "      <td>25.000000</td>\n",
       "      <td>215.000000</td>\n",
       "      <td>3.050000e+04</td>\n",
       "    </tr>\n",
       "    <tr>\n",
       "      <th>construction_year</th>\n",
       "      <td>59400.0</td>\n",
       "      <td>1300.652475</td>\n",
       "      <td>951.620547</td>\n",
       "      <td>0.00000</td>\n",
       "      <td>0.000000</td>\n",
       "      <td>1986.000000</td>\n",
       "      <td>2004.000000</td>\n",
       "      <td>2.013000e+03</td>\n",
       "    </tr>\n",
       "  </tbody>\n",
       "</table>\n",
       "</div>"
      ],
      "text/plain": [
       "                     count          mean           std       min  \\\n",
       "id                 59400.0  37115.131768  21453.128371   0.00000   \n",
       "amount_tsh         59400.0    317.650385   2997.574558   0.00000   \n",
       "gps_height         59400.0    668.297239    693.116350 -90.00000   \n",
       "longitude          59400.0     34.077427      6.567432   0.00000   \n",
       "latitude           59400.0     -5.706033      2.946019 -11.64944   \n",
       "num_private        59400.0      0.474141     12.236230   0.00000   \n",
       "region_code        59400.0     15.297003     17.587406   1.00000   \n",
       "district_code      59400.0      5.629747      9.633649   0.00000   \n",
       "population         59400.0    179.909983    471.482176   0.00000   \n",
       "construction_year  59400.0   1300.652475    951.620547   0.00000   \n",
       "\n",
       "                            25%           50%           75%           max  \n",
       "id                 18519.750000  37061.500000  55656.500000  7.424700e+04  \n",
       "amount_tsh             0.000000      0.000000     20.000000  3.500000e+05  \n",
       "gps_height             0.000000    369.000000   1319.250000  2.770000e+03  \n",
       "longitude             33.090347     34.908743     37.178387  4.034519e+01  \n",
       "latitude              -8.540621     -5.021597     -3.326156 -2.000000e-08  \n",
       "num_private            0.000000      0.000000      0.000000  1.776000e+03  \n",
       "region_code            5.000000     12.000000     17.000000  9.900000e+01  \n",
       "district_code          2.000000      3.000000      5.000000  8.000000e+01  \n",
       "population             0.000000     25.000000    215.000000  3.050000e+04  \n",
       "construction_year      0.000000   1986.000000   2004.000000  2.013000e+03  "
      ]
     },
     "execution_count": 9,
     "metadata": {},
     "output_type": "execute_result"
    }
   ],
   "source": [
    "water_pumps_df.describe().T"
   ]
  },
  {
   "cell_type": "markdown",
   "id": "5b34ca9e",
   "metadata": {},
   "source": [
    "# Data Cleaning"
   ]
  },
  {
   "cell_type": "markdown",
   "id": "fe89aa8d",
   "metadata": {},
   "source": [
    "## 1. Missing Values Analysis"
   ]
  },
  {
   "cell_type": "markdown",
   "id": "1e83a8cb",
   "metadata": {},
   "source": [
    "Synopsis: This dataset has seven columns with missing values. Among these columns, 'scheme_name' has the highest percentage of missing values, approximately 50%. The rest of the columns with missing values are missing less than 10% of data.\n",
    "\n",
    "The majority of the features in this dataset are categorical in nature. One can also observe that some categorical features, including subvillage and ward, have high-cardinality. "
   ]
  },
  {
   "cell_type": "code",
   "execution_count": 11,
   "id": "83085ddc",
   "metadata": {},
   "outputs": [
    {
     "data": {
      "text/plain": [
       "id                           0\n",
       "amount_tsh                   0\n",
       "date_recorded                0\n",
       "funder                    3635\n",
       "gps_height                   0\n",
       "installer                 3655\n",
       "longitude                    0\n",
       "latitude                     0\n",
       "wpt_name                     0\n",
       "num_private                  0\n",
       "basin                        0\n",
       "subvillage                 371\n",
       "region                       0\n",
       "region_code                  0\n",
       "district_code                0\n",
       "lga                          0\n",
       "ward                         0\n",
       "population                   0\n",
       "public_meeting            3334\n",
       "recorded_by                  0\n",
       "scheme_management         3877\n",
       "scheme_name              28166\n",
       "permit                    3056\n",
       "construction_year            0\n",
       "extraction_type              0\n",
       "extraction_type_group        0\n",
       "extraction_type_class        0\n",
       "management                   0\n",
       "management_group             0\n",
       "payment                      0\n",
       "payment_type                 0\n",
       "water_quality                0\n",
       "quality_group                0\n",
       "quantity                     0\n",
       "quantity_group               0\n",
       "source                       0\n",
       "source_type                  0\n",
       "source_class                 0\n",
       "waterpoint_type              0\n",
       "waterpoint_type_group        0\n",
       "status_group                 0\n",
       "dtype: int64"
      ]
     },
     "execution_count": 11,
     "metadata": {},
     "output_type": "execute_result"
    }
   ],
   "source": [
    "# calculate the number of missing values in each column\n",
    "water_pumps_df.isnull().sum()"
   ]
  },
  {
   "cell_type": "code",
   "execution_count": 12,
   "id": "d217c234",
   "metadata": {},
   "outputs": [
    {
     "data": {
      "text/plain": [
       "id                       59400\n",
       "amount_tsh                  98\n",
       "date_recorded              356\n",
       "funder                    1897\n",
       "gps_height                2428\n",
       "installer                 2145\n",
       "longitude                57516\n",
       "latitude                 57517\n",
       "wpt_name                 37400\n",
       "num_private                 65\n",
       "basin                        9\n",
       "subvillage               19287\n",
       "region                      21\n",
       "region_code                 27\n",
       "district_code               20\n",
       "lga                        125\n",
       "ward                      2092\n",
       "population                1049\n",
       "public_meeting               2\n",
       "recorded_by                  1\n",
       "scheme_management           12\n",
       "scheme_name               2696\n",
       "permit                       2\n",
       "construction_year           55\n",
       "extraction_type             18\n",
       "extraction_type_group       13\n",
       "extraction_type_class        7\n",
       "management                  12\n",
       "management_group             5\n",
       "payment                      7\n",
       "payment_type                 7\n",
       "water_quality                8\n",
       "quality_group                6\n",
       "quantity                     5\n",
       "quantity_group               5\n",
       "source                      10\n",
       "source_type                  7\n",
       "source_class                 3\n",
       "waterpoint_type              7\n",
       "waterpoint_type_group        6\n",
       "status_group                 3\n",
       "dtype: int64"
      ]
     },
     "execution_count": 12,
     "metadata": {},
     "output_type": "execute_result"
    }
   ],
   "source": [
    "# calculate the number of unique values in each column\n",
    "water_pumps_df.nunique()"
   ]
  },
  {
   "cell_type": "code",
   "execution_count": 14,
   "id": "e40f2111",
   "metadata": {},
   "outputs": [],
   "source": [
    "# getting the percentage of missing values for each column into a dictionary\n",
    "percent_missing = {}\n",
    "for column in water_pumps_df.columns:\n",
    "    percent_missing[column] = water_pumps_df[column].isnull().sum() / water_pumps_df.shape[0] *100"
   ]
  },
  {
   "cell_type": "code",
   "execution_count": 15,
   "id": "167e7637",
   "metadata": {},
   "outputs": [
    {
     "data": {
      "image/png": "[encoded data removed]",
      "text/plain": [
       "<Figure size 720x1080 with 1 Axes>"
      ]
     },
     "metadata": {},
     "output_type": "display_data"
    }
   ],
   "source": [
    "# bar plot displaying the percentage of missing values in each column\n",
    "column = list(percent_missing.keys())\n",
    "percent = list(percent_missing.values())\n",
    "\n",
    "plt.figure(figsize=(10,15))\n",
    "plt.barh(range(len(percent_missing)), percent, tick_label=column)\n",
    "plt.show()"
   ]
  },
  {
   "cell_type": "markdown",
   "id": "508aaee6",
   "metadata": {},
   "source": [
    "## 2. Droping Uneccessary Columns from the Dataset"
   ]
  },
  {
   "cell_type": "markdown",
   "id": "b68db114",
   "metadata": {},
   "source": [
    "Synopsis: The dataset contained several columns that had redundant observations. For example, the columns \"quantity\" and \"quantity_group\" both provided a qualitative assessment of the amount of water available at a water pump. To eliminate redundancy, one of these columns was dropped. Similarly, columns containing the same information were reduced to one.\n",
    "\n",
    "The 'id' and 'water_point_name\" columns were also dropped because every entry in the dataset is unique. Since the 'date_recorded' and 'recorded_by' columns do not influence the functionality of a water pump, they were dropped from the dataset. "
   ]
  },
  {
   "cell_type": "code",
   "execution_count": 8,
   "id": "03eb0243",
   "metadata": {},
   "outputs": [
    {
     "data": {
      "text/html": [
       "<div>\n",
       "<style scoped>\n",
       "    .dataframe tbody tr th:only-of-type {\n",
       "        vertical-align: middle;\n",
       "    }\n",
       "\n",
       "    .dataframe tbody tr th {\n",
       "        vertical-align: top;\n",
       "    }\n",
       "\n",
       "    .dataframe thead th {\n",
       "        text-align: right;\n",
       "    }\n",
       "</style>\n",
       "<table border=\"1\" class=\"dataframe\">\n",
       "  <thead>\n",
       "    <tr style=\"text-align: right;\">\n",
       "      <th></th>\n",
       "      <th>extraction_type</th>\n",
       "      <th>extraction_type_group</th>\n",
       "      <th>extraction_type_class</th>\n",
       "    </tr>\n",
       "  </thead>\n",
       "  <tbody>\n",
       "    <tr>\n",
       "      <th>0</th>\n",
       "      <td>gravity</td>\n",
       "      <td>gravity</td>\n",
       "      <td>gravity</td>\n",
       "    </tr>\n",
       "    <tr>\n",
       "      <th>1</th>\n",
       "      <td>gravity</td>\n",
       "      <td>gravity</td>\n",
       "      <td>gravity</td>\n",
       "    </tr>\n",
       "    <tr>\n",
       "      <th>2</th>\n",
       "      <td>gravity</td>\n",
       "      <td>gravity</td>\n",
       "      <td>gravity</td>\n",
       "    </tr>\n",
       "    <tr>\n",
       "      <th>3</th>\n",
       "      <td>submersible</td>\n",
       "      <td>submersible</td>\n",
       "      <td>submersible</td>\n",
       "    </tr>\n",
       "    <tr>\n",
       "      <th>4</th>\n",
       "      <td>gravity</td>\n",
       "      <td>gravity</td>\n",
       "      <td>gravity</td>\n",
       "    </tr>\n",
       "    <tr>\n",
       "      <th>...</th>\n",
       "      <td>...</td>\n",
       "      <td>...</td>\n",
       "      <td>...</td>\n",
       "    </tr>\n",
       "    <tr>\n",
       "      <th>59395</th>\n",
       "      <td>gravity</td>\n",
       "      <td>gravity</td>\n",
       "      <td>gravity</td>\n",
       "    </tr>\n",
       "    <tr>\n",
       "      <th>59396</th>\n",
       "      <td>gravity</td>\n",
       "      <td>gravity</td>\n",
       "      <td>gravity</td>\n",
       "    </tr>\n",
       "    <tr>\n",
       "      <th>59397</th>\n",
       "      <td>swn 80</td>\n",
       "      <td>swn 80</td>\n",
       "      <td>handpump</td>\n",
       "    </tr>\n",
       "    <tr>\n",
       "      <th>59398</th>\n",
       "      <td>nira/tanira</td>\n",
       "      <td>nira/tanira</td>\n",
       "      <td>handpump</td>\n",
       "    </tr>\n",
       "    <tr>\n",
       "      <th>59399</th>\n",
       "      <td>nira/tanira</td>\n",
       "      <td>nira/tanira</td>\n",
       "      <td>handpump</td>\n",
       "    </tr>\n",
       "  </tbody>\n",
       "</table>\n",
       "<p>59400 rows × 3 columns</p>\n",
       "</div>"
      ],
      "text/plain": [
       "      extraction_type extraction_type_group extraction_type_class\n",
       "0             gravity               gravity               gravity\n",
       "1             gravity               gravity               gravity\n",
       "2             gravity               gravity               gravity\n",
       "3         submersible           submersible           submersible\n",
       "4             gravity               gravity               gravity\n",
       "...               ...                   ...                   ...\n",
       "59395         gravity               gravity               gravity\n",
       "59396         gravity               gravity               gravity\n",
       "59397          swn 80                swn 80              handpump\n",
       "59398     nira/tanira           nira/tanira              handpump\n",
       "59399     nira/tanira           nira/tanira              handpump\n",
       "\n",
       "[59400 rows x 3 columns]"
      ]
     },
     "execution_count": 8,
     "metadata": {},
     "output_type": "execute_result"
    }
   ],
   "source": [
    "# checking for possible redundancy for EXTRACTION variables--action needed\n",
    "water_pumps_df[['extraction_type', 'extraction_type_group', 'extraction_type_class']]"
   ]
  },
  {
   "cell_type": "code",
   "execution_count": 18,
   "id": "4f3c9ce3",
   "metadata": {},
   "outputs": [
    {
     "data": {
      "text/html": [
       "<div>\n",
       "<style scoped>\n",
       "    .dataframe tbody tr th:only-of-type {\n",
       "        vertical-align: middle;\n",
       "    }\n",
       "\n",
       "    .dataframe tbody tr th {\n",
       "        vertical-align: top;\n",
       "    }\n",
       "\n",
       "    .dataframe thead th {\n",
       "        text-align: right;\n",
       "    }\n",
       "</style>\n",
       "<table border=\"1\" class=\"dataframe\">\n",
       "  <thead>\n",
       "    <tr style=\"text-align: right;\">\n",
       "      <th></th>\n",
       "      <th>scheme_name</th>\n",
       "      <th>scheme_management</th>\n",
       "    </tr>\n",
       "  </thead>\n",
       "  <tbody>\n",
       "    <tr>\n",
       "      <th>0</th>\n",
       "      <td>Roman</td>\n",
       "      <td>VWC</td>\n",
       "    </tr>\n",
       "    <tr>\n",
       "      <th>1</th>\n",
       "      <td>NaN</td>\n",
       "      <td>Other</td>\n",
       "    </tr>\n",
       "    <tr>\n",
       "      <th>2</th>\n",
       "      <td>Nyumba ya mungu pipe scheme</td>\n",
       "      <td>VWC</td>\n",
       "    </tr>\n",
       "    <tr>\n",
       "      <th>3</th>\n",
       "      <td>NaN</td>\n",
       "      <td>VWC</td>\n",
       "    </tr>\n",
       "    <tr>\n",
       "      <th>4</th>\n",
       "      <td>NaN</td>\n",
       "      <td>NaN</td>\n",
       "    </tr>\n",
       "    <tr>\n",
       "      <th>...</th>\n",
       "      <td>...</td>\n",
       "      <td>...</td>\n",
       "    </tr>\n",
       "    <tr>\n",
       "      <th>59395</th>\n",
       "      <td>Losaa Kia water supply</td>\n",
       "      <td>Water Board</td>\n",
       "    </tr>\n",
       "    <tr>\n",
       "      <th>59396</th>\n",
       "      <td>Ikondo electrical water sch</td>\n",
       "      <td>VWC</td>\n",
       "    </tr>\n",
       "    <tr>\n",
       "      <th>59397</th>\n",
       "      <td>NaN</td>\n",
       "      <td>VWC</td>\n",
       "    </tr>\n",
       "    <tr>\n",
       "      <th>59398</th>\n",
       "      <td>NaN</td>\n",
       "      <td>VWC</td>\n",
       "    </tr>\n",
       "    <tr>\n",
       "      <th>59399</th>\n",
       "      <td>NaN</td>\n",
       "      <td>VWC</td>\n",
       "    </tr>\n",
       "  </tbody>\n",
       "</table>\n",
       "<p>59400 rows × 2 columns</p>\n",
       "</div>"
      ],
      "text/plain": [
       "                       scheme_name scheme_management\n",
       "0                            Roman               VWC\n",
       "1                              NaN             Other\n",
       "2      Nyumba ya mungu pipe scheme               VWC\n",
       "3                              NaN               VWC\n",
       "4                              NaN               NaN\n",
       "...                            ...               ...\n",
       "59395       Losaa Kia water supply       Water Board\n",
       "59396  Ikondo electrical water sch               VWC\n",
       "59397                          NaN               VWC\n",
       "59398                          NaN               VWC\n",
       "59399                          NaN               VWC\n",
       "\n",
       "[59400 rows x 2 columns]"
      ]
     },
     "execution_count": 18,
     "metadata": {},
     "output_type": "execute_result"
    }
   ],
   "source": [
    "# checking for possible redundancy for SCHEME variables--action needed\n",
    "water_pumps_df[['scheme_name', 'scheme_management']]"
   ]
  },
  {
   "cell_type": "code",
   "execution_count": 11,
   "id": "b1e9a244",
   "metadata": {},
   "outputs": [
    {
     "data": {
      "text/html": [
       "<div>\n",
       "<style scoped>\n",
       "    .dataframe tbody tr th:only-of-type {\n",
       "        vertical-align: middle;\n",
       "    }\n",
       "\n",
       "    .dataframe tbody tr th {\n",
       "        vertical-align: top;\n",
       "    }\n",
       "\n",
       "    .dataframe thead th {\n",
       "        text-align: right;\n",
       "    }\n",
       "</style>\n",
       "<table border=\"1\" class=\"dataframe\">\n",
       "  <thead>\n",
       "    <tr style=\"text-align: right;\">\n",
       "      <th></th>\n",
       "      <th>management</th>\n",
       "      <th>management_group</th>\n",
       "    </tr>\n",
       "  </thead>\n",
       "  <tbody>\n",
       "    <tr>\n",
       "      <th>0</th>\n",
       "      <td>vwc</td>\n",
       "      <td>user-group</td>\n",
       "    </tr>\n",
       "    <tr>\n",
       "      <th>1</th>\n",
       "      <td>wug</td>\n",
       "      <td>user-group</td>\n",
       "    </tr>\n",
       "    <tr>\n",
       "      <th>2</th>\n",
       "      <td>vwc</td>\n",
       "      <td>user-group</td>\n",
       "    </tr>\n",
       "    <tr>\n",
       "      <th>3</th>\n",
       "      <td>vwc</td>\n",
       "      <td>user-group</td>\n",
       "    </tr>\n",
       "    <tr>\n",
       "      <th>4</th>\n",
       "      <td>other</td>\n",
       "      <td>other</td>\n",
       "    </tr>\n",
       "    <tr>\n",
       "      <th>...</th>\n",
       "      <td>...</td>\n",
       "      <td>...</td>\n",
       "    </tr>\n",
       "    <tr>\n",
       "      <th>59395</th>\n",
       "      <td>water board</td>\n",
       "      <td>user-group</td>\n",
       "    </tr>\n",
       "    <tr>\n",
       "      <th>59396</th>\n",
       "      <td>vwc</td>\n",
       "      <td>user-group</td>\n",
       "    </tr>\n",
       "    <tr>\n",
       "      <th>59397</th>\n",
       "      <td>vwc</td>\n",
       "      <td>user-group</td>\n",
       "    </tr>\n",
       "    <tr>\n",
       "      <th>59398</th>\n",
       "      <td>vwc</td>\n",
       "      <td>user-group</td>\n",
       "    </tr>\n",
       "    <tr>\n",
       "      <th>59399</th>\n",
       "      <td>vwc</td>\n",
       "      <td>user-group</td>\n",
       "    </tr>\n",
       "  </tbody>\n",
       "</table>\n",
       "<p>59400 rows × 2 columns</p>\n",
       "</div>"
      ],
      "text/plain": [
       "        management management_group\n",
       "0              vwc       user-group\n",
       "1              wug       user-group\n",
       "2              vwc       user-group\n",
       "3              vwc       user-group\n",
       "4            other            other\n",
       "...            ...              ...\n",
       "59395  water board       user-group\n",
       "59396          vwc       user-group\n",
       "59397          vwc       user-group\n",
       "59398          vwc       user-group\n",
       "59399          vwc       user-group\n",
       "\n",
       "[59400 rows x 2 columns]"
      ]
     },
     "execution_count": 11,
     "metadata": {},
     "output_type": "execute_result"
    }
   ],
   "source": [
    "# checking for possible redundancy for MANAGEMENT variables--action needed\n",
    "water_pumps_df[['management', 'management_group']]"
   ]
  },
  {
   "cell_type": "code",
   "execution_count": 12,
   "id": "3d25d3f7",
   "metadata": {},
   "outputs": [
    {
     "data": {
      "text/html": [
       "<div>\n",
       "<style scoped>\n",
       "    .dataframe tbody tr th:only-of-type {\n",
       "        vertical-align: middle;\n",
       "    }\n",
       "\n",
       "    .dataframe tbody tr th {\n",
       "        vertical-align: top;\n",
       "    }\n",
       "\n",
       "    .dataframe thead th {\n",
       "        text-align: right;\n",
       "    }\n",
       "</style>\n",
       "<table border=\"1\" class=\"dataframe\">\n",
       "  <thead>\n",
       "    <tr style=\"text-align: right;\">\n",
       "      <th></th>\n",
       "      <th>payment</th>\n",
       "      <th>payment_type</th>\n",
       "    </tr>\n",
       "  </thead>\n",
       "  <tbody>\n",
       "    <tr>\n",
       "      <th>0</th>\n",
       "      <td>pay annually</td>\n",
       "      <td>annually</td>\n",
       "    </tr>\n",
       "    <tr>\n",
       "      <th>1</th>\n",
       "      <td>never pay</td>\n",
       "      <td>never pay</td>\n",
       "    </tr>\n",
       "    <tr>\n",
       "      <th>2</th>\n",
       "      <td>pay per bucket</td>\n",
       "      <td>per bucket</td>\n",
       "    </tr>\n",
       "    <tr>\n",
       "      <th>3</th>\n",
       "      <td>never pay</td>\n",
       "      <td>never pay</td>\n",
       "    </tr>\n",
       "    <tr>\n",
       "      <th>4</th>\n",
       "      <td>never pay</td>\n",
       "      <td>never pay</td>\n",
       "    </tr>\n",
       "    <tr>\n",
       "      <th>...</th>\n",
       "      <td>...</td>\n",
       "      <td>...</td>\n",
       "    </tr>\n",
       "    <tr>\n",
       "      <th>59395</th>\n",
       "      <td>pay per bucket</td>\n",
       "      <td>per bucket</td>\n",
       "    </tr>\n",
       "    <tr>\n",
       "      <th>59396</th>\n",
       "      <td>pay annually</td>\n",
       "      <td>annually</td>\n",
       "    </tr>\n",
       "    <tr>\n",
       "      <th>59397</th>\n",
       "      <td>pay monthly</td>\n",
       "      <td>monthly</td>\n",
       "    </tr>\n",
       "    <tr>\n",
       "      <th>59398</th>\n",
       "      <td>never pay</td>\n",
       "      <td>never pay</td>\n",
       "    </tr>\n",
       "    <tr>\n",
       "      <th>59399</th>\n",
       "      <td>pay when scheme fails</td>\n",
       "      <td>on failure</td>\n",
       "    </tr>\n",
       "  </tbody>\n",
       "</table>\n",
       "<p>59400 rows × 2 columns</p>\n",
       "</div>"
      ],
      "text/plain": [
       "                     payment payment_type\n",
       "0               pay annually     annually\n",
       "1                  never pay    never pay\n",
       "2             pay per bucket   per bucket\n",
       "3                  never pay    never pay\n",
       "4                  never pay    never pay\n",
       "...                      ...          ...\n",
       "59395         pay per bucket   per bucket\n",
       "59396           pay annually     annually\n",
       "59397            pay monthly      monthly\n",
       "59398              never pay    never pay\n",
       "59399  pay when scheme fails   on failure\n",
       "\n",
       "[59400 rows x 2 columns]"
      ]
     },
     "execution_count": 12,
     "metadata": {},
     "output_type": "execute_result"
    }
   ],
   "source": [
    "# checking for possible redundancy for PAYMENT variables--action needed\n",
    "water_pumps_df[['payment', 'payment_type']]"
   ]
  },
  {
   "cell_type": "code",
   "execution_count": 5,
   "id": "4f8ba719",
   "metadata": {},
   "outputs": [
    {
     "data": {
      "text/html": [
       "<div>\n",
       "<style scoped>\n",
       "    .dataframe tbody tr th:only-of-type {\n",
       "        vertical-align: middle;\n",
       "    }\n",
       "\n",
       "    .dataframe tbody tr th {\n",
       "        vertical-align: top;\n",
       "    }\n",
       "\n",
       "    .dataframe thead th {\n",
       "        text-align: right;\n",
       "    }\n",
       "</style>\n",
       "<table border=\"1\" class=\"dataframe\">\n",
       "  <thead>\n",
       "    <tr style=\"text-align: right;\">\n",
       "      <th></th>\n",
       "      <th>quantity</th>\n",
       "      <th>quantity_group</th>\n",
       "    </tr>\n",
       "  </thead>\n",
       "  <tbody>\n",
       "    <tr>\n",
       "      <th>0</th>\n",
       "      <td>enough</td>\n",
       "      <td>enough</td>\n",
       "    </tr>\n",
       "    <tr>\n",
       "      <th>1</th>\n",
       "      <td>insufficient</td>\n",
       "      <td>insufficient</td>\n",
       "    </tr>\n",
       "    <tr>\n",
       "      <th>2</th>\n",
       "      <td>enough</td>\n",
       "      <td>enough</td>\n",
       "    </tr>\n",
       "    <tr>\n",
       "      <th>3</th>\n",
       "      <td>dry</td>\n",
       "      <td>dry</td>\n",
       "    </tr>\n",
       "    <tr>\n",
       "      <th>4</th>\n",
       "      <td>seasonal</td>\n",
       "      <td>seasonal</td>\n",
       "    </tr>\n",
       "    <tr>\n",
       "      <th>...</th>\n",
       "      <td>...</td>\n",
       "      <td>...</td>\n",
       "    </tr>\n",
       "    <tr>\n",
       "      <th>59395</th>\n",
       "      <td>enough</td>\n",
       "      <td>enough</td>\n",
       "    </tr>\n",
       "    <tr>\n",
       "      <th>59396</th>\n",
       "      <td>enough</td>\n",
       "      <td>enough</td>\n",
       "    </tr>\n",
       "    <tr>\n",
       "      <th>59397</th>\n",
       "      <td>enough</td>\n",
       "      <td>enough</td>\n",
       "    </tr>\n",
       "    <tr>\n",
       "      <th>59398</th>\n",
       "      <td>insufficient</td>\n",
       "      <td>insufficient</td>\n",
       "    </tr>\n",
       "    <tr>\n",
       "      <th>59399</th>\n",
       "      <td>enough</td>\n",
       "      <td>enough</td>\n",
       "    </tr>\n",
       "  </tbody>\n",
       "</table>\n",
       "<p>59400 rows × 2 columns</p>\n",
       "</div>"
      ],
      "text/plain": [
       "           quantity quantity_group\n",
       "0            enough         enough\n",
       "1      insufficient   insufficient\n",
       "2            enough         enough\n",
       "3               dry            dry\n",
       "4          seasonal       seasonal\n",
       "...             ...            ...\n",
       "59395        enough         enough\n",
       "59396        enough         enough\n",
       "59397        enough         enough\n",
       "59398  insufficient   insufficient\n",
       "59399        enough         enough\n",
       "\n",
       "[59400 rows x 2 columns]"
      ]
     },
     "execution_count": 5,
     "metadata": {},
     "output_type": "execute_result"
    }
   ],
   "source": [
    "# checking for possible redundancy for QUANTITY variables--action needed\n",
    "water_pumps_df[['quantity', 'quantity_group']]"
   ]
  },
  {
   "cell_type": "code",
   "execution_count": 6,
   "id": "8701cd5a",
   "metadata": {},
   "outputs": [
    {
     "data": {
      "text/html": [
       "<div>\n",
       "<style scoped>\n",
       "    .dataframe tbody tr th:only-of-type {\n",
       "        vertical-align: middle;\n",
       "    }\n",
       "\n",
       "    .dataframe tbody tr th {\n",
       "        vertical-align: top;\n",
       "    }\n",
       "\n",
       "    .dataframe thead th {\n",
       "        text-align: right;\n",
       "    }\n",
       "</style>\n",
       "<table border=\"1\" class=\"dataframe\">\n",
       "  <thead>\n",
       "    <tr style=\"text-align: right;\">\n",
       "      <th></th>\n",
       "      <th>source</th>\n",
       "      <th>source_type</th>\n",
       "      <th>source_class</th>\n",
       "    </tr>\n",
       "  </thead>\n",
       "  <tbody>\n",
       "    <tr>\n",
       "      <th>0</th>\n",
       "      <td>spring</td>\n",
       "      <td>spring</td>\n",
       "      <td>groundwater</td>\n",
       "    </tr>\n",
       "    <tr>\n",
       "      <th>1</th>\n",
       "      <td>rainwater harvesting</td>\n",
       "      <td>rainwater harvesting</td>\n",
       "      <td>surface</td>\n",
       "    </tr>\n",
       "    <tr>\n",
       "      <th>2</th>\n",
       "      <td>dam</td>\n",
       "      <td>dam</td>\n",
       "      <td>surface</td>\n",
       "    </tr>\n",
       "    <tr>\n",
       "      <th>3</th>\n",
       "      <td>machine dbh</td>\n",
       "      <td>borehole</td>\n",
       "      <td>groundwater</td>\n",
       "    </tr>\n",
       "    <tr>\n",
       "      <th>4</th>\n",
       "      <td>rainwater harvesting</td>\n",
       "      <td>rainwater harvesting</td>\n",
       "      <td>surface</td>\n",
       "    </tr>\n",
       "    <tr>\n",
       "      <th>...</th>\n",
       "      <td>...</td>\n",
       "      <td>...</td>\n",
       "      <td>...</td>\n",
       "    </tr>\n",
       "    <tr>\n",
       "      <th>59395</th>\n",
       "      <td>spring</td>\n",
       "      <td>spring</td>\n",
       "      <td>groundwater</td>\n",
       "    </tr>\n",
       "    <tr>\n",
       "      <th>59396</th>\n",
       "      <td>river</td>\n",
       "      <td>river/lake</td>\n",
       "      <td>surface</td>\n",
       "    </tr>\n",
       "    <tr>\n",
       "      <th>59397</th>\n",
       "      <td>machine dbh</td>\n",
       "      <td>borehole</td>\n",
       "      <td>groundwater</td>\n",
       "    </tr>\n",
       "    <tr>\n",
       "      <th>59398</th>\n",
       "      <td>shallow well</td>\n",
       "      <td>shallow well</td>\n",
       "      <td>groundwater</td>\n",
       "    </tr>\n",
       "    <tr>\n",
       "      <th>59399</th>\n",
       "      <td>shallow well</td>\n",
       "      <td>shallow well</td>\n",
       "      <td>groundwater</td>\n",
       "    </tr>\n",
       "  </tbody>\n",
       "</table>\n",
       "<p>59400 rows × 3 columns</p>\n",
       "</div>"
      ],
      "text/plain": [
       "                     source           source_type source_class\n",
       "0                    spring                spring  groundwater\n",
       "1      rainwater harvesting  rainwater harvesting      surface\n",
       "2                       dam                   dam      surface\n",
       "3               machine dbh              borehole  groundwater\n",
       "4      rainwater harvesting  rainwater harvesting      surface\n",
       "...                     ...                   ...          ...\n",
       "59395                spring                spring  groundwater\n",
       "59396                 river            river/lake      surface\n",
       "59397           machine dbh              borehole  groundwater\n",
       "59398          shallow well          shallow well  groundwater\n",
       "59399          shallow well          shallow well  groundwater\n",
       "\n",
       "[59400 rows x 3 columns]"
      ]
     },
     "execution_count": 6,
     "metadata": {},
     "output_type": "execute_result"
    }
   ],
   "source": [
    "# checking for possible redundancy for SOURCE variables--action needed\n",
    "water_pumps_df[['source', 'source_type', 'source_class']]"
   ]
  },
  {
   "cell_type": "code",
   "execution_count": 7,
   "id": "3f89e9d3",
   "metadata": {},
   "outputs": [
    {
     "data": {
      "text/html": [
       "<div>\n",
       "<style scoped>\n",
       "    .dataframe tbody tr th:only-of-type {\n",
       "        vertical-align: middle;\n",
       "    }\n",
       "\n",
       "    .dataframe tbody tr th {\n",
       "        vertical-align: top;\n",
       "    }\n",
       "\n",
       "    .dataframe thead th {\n",
       "        text-align: right;\n",
       "    }\n",
       "</style>\n",
       "<table border=\"1\" class=\"dataframe\">\n",
       "  <thead>\n",
       "    <tr style=\"text-align: right;\">\n",
       "      <th></th>\n",
       "      <th>waterpoint_type</th>\n",
       "      <th>waterpoint_type_group</th>\n",
       "    </tr>\n",
       "  </thead>\n",
       "  <tbody>\n",
       "    <tr>\n",
       "      <th>0</th>\n",
       "      <td>communal standpipe</td>\n",
       "      <td>communal standpipe</td>\n",
       "    </tr>\n",
       "    <tr>\n",
       "      <th>1</th>\n",
       "      <td>communal standpipe</td>\n",
       "      <td>communal standpipe</td>\n",
       "    </tr>\n",
       "    <tr>\n",
       "      <th>2</th>\n",
       "      <td>communal standpipe multiple</td>\n",
       "      <td>communal standpipe</td>\n",
       "    </tr>\n",
       "    <tr>\n",
       "      <th>3</th>\n",
       "      <td>communal standpipe multiple</td>\n",
       "      <td>communal standpipe</td>\n",
       "    </tr>\n",
       "    <tr>\n",
       "      <th>4</th>\n",
       "      <td>communal standpipe</td>\n",
       "      <td>communal standpipe</td>\n",
       "    </tr>\n",
       "    <tr>\n",
       "      <th>...</th>\n",
       "      <td>...</td>\n",
       "      <td>...</td>\n",
       "    </tr>\n",
       "    <tr>\n",
       "      <th>59395</th>\n",
       "      <td>communal standpipe</td>\n",
       "      <td>communal standpipe</td>\n",
       "    </tr>\n",
       "    <tr>\n",
       "      <th>59396</th>\n",
       "      <td>communal standpipe</td>\n",
       "      <td>communal standpipe</td>\n",
       "    </tr>\n",
       "    <tr>\n",
       "      <th>59397</th>\n",
       "      <td>hand pump</td>\n",
       "      <td>hand pump</td>\n",
       "    </tr>\n",
       "    <tr>\n",
       "      <th>59398</th>\n",
       "      <td>hand pump</td>\n",
       "      <td>hand pump</td>\n",
       "    </tr>\n",
       "    <tr>\n",
       "      <th>59399</th>\n",
       "      <td>hand pump</td>\n",
       "      <td>hand pump</td>\n",
       "    </tr>\n",
       "  </tbody>\n",
       "</table>\n",
       "<p>59400 rows × 2 columns</p>\n",
       "</div>"
      ],
      "text/plain": [
       "                   waterpoint_type waterpoint_type_group\n",
       "0               communal standpipe    communal standpipe\n",
       "1               communal standpipe    communal standpipe\n",
       "2      communal standpipe multiple    communal standpipe\n",
       "3      communal standpipe multiple    communal standpipe\n",
       "4               communal standpipe    communal standpipe\n",
       "...                            ...                   ...\n",
       "59395           communal standpipe    communal standpipe\n",
       "59396           communal standpipe    communal standpipe\n",
       "59397                    hand pump             hand pump\n",
       "59398                    hand pump             hand pump\n",
       "59399                    hand pump             hand pump\n",
       "\n",
       "[59400 rows x 2 columns]"
      ]
     },
     "execution_count": 7,
     "metadata": {},
     "output_type": "execute_result"
    }
   ],
   "source": [
    "# checking for possible redundancy for WATER TYPE variables--action needed\n",
    "water_pumps_df[['waterpoint_type', 'waterpoint_type_group']]"
   ]
  },
  {
   "cell_type": "code",
   "execution_count": 21,
   "id": "53041baa",
   "metadata": {},
   "outputs": [
    {
     "data": {
      "text/html": [
       "<div>\n",
       "<style scoped>\n",
       "    .dataframe tbody tr th:only-of-type {\n",
       "        vertical-align: middle;\n",
       "    }\n",
       "\n",
       "    .dataframe tbody tr th {\n",
       "        vertical-align: top;\n",
       "    }\n",
       "\n",
       "    .dataframe thead th {\n",
       "        text-align: right;\n",
       "    }\n",
       "</style>\n",
       "<table border=\"1\" class=\"dataframe\">\n",
       "  <thead>\n",
       "    <tr style=\"text-align: right;\">\n",
       "      <th></th>\n",
       "      <th>water_quality</th>\n",
       "      <th>quality_group</th>\n",
       "    </tr>\n",
       "  </thead>\n",
       "  <tbody>\n",
       "    <tr>\n",
       "      <th>0</th>\n",
       "      <td>soft</td>\n",
       "      <td>good</td>\n",
       "    </tr>\n",
       "    <tr>\n",
       "      <th>1</th>\n",
       "      <td>soft</td>\n",
       "      <td>good</td>\n",
       "    </tr>\n",
       "    <tr>\n",
       "      <th>2</th>\n",
       "      <td>soft</td>\n",
       "      <td>good</td>\n",
       "    </tr>\n",
       "    <tr>\n",
       "      <th>3</th>\n",
       "      <td>soft</td>\n",
       "      <td>good</td>\n",
       "    </tr>\n",
       "    <tr>\n",
       "      <th>4</th>\n",
       "      <td>soft</td>\n",
       "      <td>good</td>\n",
       "    </tr>\n",
       "    <tr>\n",
       "      <th>...</th>\n",
       "      <td>...</td>\n",
       "      <td>...</td>\n",
       "    </tr>\n",
       "    <tr>\n",
       "      <th>59395</th>\n",
       "      <td>soft</td>\n",
       "      <td>good</td>\n",
       "    </tr>\n",
       "    <tr>\n",
       "      <th>59396</th>\n",
       "      <td>soft</td>\n",
       "      <td>good</td>\n",
       "    </tr>\n",
       "    <tr>\n",
       "      <th>59397</th>\n",
       "      <td>fluoride</td>\n",
       "      <td>fluoride</td>\n",
       "    </tr>\n",
       "    <tr>\n",
       "      <th>59398</th>\n",
       "      <td>soft</td>\n",
       "      <td>good</td>\n",
       "    </tr>\n",
       "    <tr>\n",
       "      <th>59399</th>\n",
       "      <td>salty</td>\n",
       "      <td>salty</td>\n",
       "    </tr>\n",
       "  </tbody>\n",
       "</table>\n",
       "<p>59400 rows × 2 columns</p>\n",
       "</div>"
      ],
      "text/plain": [
       "      water_quality quality_group\n",
       "0              soft          good\n",
       "1              soft          good\n",
       "2              soft          good\n",
       "3              soft          good\n",
       "4              soft          good\n",
       "...             ...           ...\n",
       "59395          soft          good\n",
       "59396          soft          good\n",
       "59397      fluoride      fluoride\n",
       "59398          soft          good\n",
       "59399         salty         salty\n",
       "\n",
       "[59400 rows x 2 columns]"
      ]
     },
     "execution_count": 21,
     "metadata": {},
     "output_type": "execute_result"
    }
   ],
   "source": [
    "# checking for possible redundancy for QUALITY variables--action needed\n",
    "water_pumps_df[['water_quality', 'quality_group']]"
   ]
  },
  {
   "cell_type": "code",
   "execution_count": 8,
   "id": "e3a64639",
   "metadata": {},
   "outputs": [],
   "source": [
    "# drop unecessary or redundant columns from the dataset\n",
    "water_pumps_df.drop(['id', 'date_recorded', 'num_private', 'public_meeting', 'recorded_by', 'scheme_name', 'wpt_name'],axis=1, inplace=True)"
   ]
  },
  {
   "cell_type": "code",
   "execution_count": 9,
   "id": "d8b276b1",
   "metadata": {},
   "outputs": [],
   "source": [
    "water_pumps_df.drop(['extraction_type', 'extraction_type_group'],axis=1, inplace=True)"
   ]
  },
  {
   "cell_type": "code",
   "execution_count": 10,
   "id": "db5e99ac",
   "metadata": {},
   "outputs": [],
   "source": [
    "water_pumps_df.drop(['management', 'management_group'],axis=1, inplace=True)"
   ]
  },
  {
   "cell_type": "code",
   "execution_count": 11,
   "id": "997b7809",
   "metadata": {},
   "outputs": [],
   "source": [
    "water_pumps_df.drop(['payment'],axis=1, inplace=True)"
   ]
  },
  {
   "cell_type": "code",
   "execution_count": 12,
   "id": "f9fba174",
   "metadata": {},
   "outputs": [],
   "source": [
    "water_pumps_df.drop(['quantity_group'],axis=1, inplace=True)"
   ]
  },
  {
   "cell_type": "code",
   "execution_count": 13,
   "id": "01b2e8ba",
   "metadata": {},
   "outputs": [],
   "source": [
    "water_pumps_df.drop(['source', 'source_type'],axis=1, inplace=True)"
   ]
  },
  {
   "cell_type": "code",
   "execution_count": 14,
   "id": "06f6ad04",
   "metadata": {},
   "outputs": [],
   "source": [
    "water_pumps_df.drop(['waterpoint_type_group'],axis=1, inplace=True)"
   ]
  },
  {
   "cell_type": "code",
   "execution_count": 23,
   "id": "928f1ece",
   "metadata": {},
   "outputs": [],
   "source": [
    "water_pumps_df.drop(['wpt_name'],axis=1, inplace=True)"
   ]
  },
  {
   "cell_type": "code",
   "execution_count": null,
   "id": "abad0ae4",
   "metadata": {},
   "outputs": [],
   "source": [
    "water_pumps_df.drop(['water_quality'],axis=1, inplace=True)"
   ]
  },
  {
   "cell_type": "code",
   "execution_count": 30,
   "id": "4989f064",
   "metadata": {},
   "outputs": [],
   "source": [
    "water_pumps_df.drop(['Unnamed: 0'],axis=1, inplace=True)"
   ]
  },
  {
   "cell_type": "code",
   "execution_count": 19,
   "id": "7fa43d39",
   "metadata": {},
   "outputs": [
    {
     "data": {
      "text/plain": [
       "False"
      ]
     },
     "execution_count": 19,
     "metadata": {},
     "output_type": "execute_result"
    }
   ],
   "source": [
    "# checking for duplicate entries\n",
    "water_pumps_df.duplicated().any()"
   ]
  },
  {
   "cell_type": "markdown",
   "id": "8f9475ce",
   "metadata": {},
   "source": [
    "## 3. Converting Categorical Features to Numeric Representations"
   ]
  },
  {
   "cell_type": "code",
   "execution_count": 27,
   "id": "9ffff484",
   "metadata": {},
   "outputs": [],
   "source": [
    "# convert target variable to numerical values\n",
    "water_pumps_df['status_group'] = water_pumps_df['status_group'].replace({'functional': 0, 'functional needs repair': 1, 'non functional': 2})"
   ]
  },
  {
   "cell_type": "code",
   "execution_count": 26,
   "id": "471fb167",
   "metadata": {},
   "outputs": [],
   "source": [
    "# the Catboost encoder will be used transform categorical features\n",
    "import category_encoders as ce"
   ]
  },
  {
   "cell_type": "code",
   "execution_count": 34,
   "id": "8aee0e71",
   "metadata": {},
   "outputs": [],
   "source": [
    "temp_df = water_pumps_df.copy()"
   ]
  },
  {
   "cell_type": "code",
   "execution_count": 35,
   "id": "1841a57c",
   "metadata": {},
   "outputs": [],
   "source": [
    "target = temp_df['status_group']"
   ]
  },
  {
   "cell_type": "code",
   "execution_count": 36,
   "id": "cf4ba3e9",
   "metadata": {},
   "outputs": [],
   "source": [
    "train = temp_df.drop('status_group', axis = 1)"
   ]
  },
  {
   "cell_type": "code",
   "execution_count": 37,
   "id": "0015a631",
   "metadata": {},
   "outputs": [],
   "source": [
    "# Define catboost encoder\n",
    "cbe_encoder = ce.cat_boost.CatBoostEncoder(handle_missing='return_nan')"
   ]
  },
  {
   "cell_type": "code",
   "execution_count": 38,
   "id": "7ac54ce3",
   "metadata": {},
   "outputs": [],
   "source": [
    "# encode categorical columns\n",
    "cbe_encoder.fit(train, target)\n",
    "train_cbe = cbe_encoder.transform(train)"
   ]
  },
  {
   "cell_type": "code",
   "execution_count": 40,
   "id": "adba3224",
   "metadata": {},
   "outputs": [
    {
     "data": {
      "text/html": [
       "<div>\n",
       "<style scoped>\n",
       "    .dataframe tbody tr th:only-of-type {\n",
       "        vertical-align: middle;\n",
       "    }\n",
       "\n",
       "    .dataframe tbody tr th {\n",
       "        vertical-align: top;\n",
       "    }\n",
       "\n",
       "    .dataframe thead th {\n",
       "        text-align: right;\n",
       "    }\n",
       "</style>\n",
       "<table border=\"1\" class=\"dataframe\">\n",
       "  <thead>\n",
       "    <tr style=\"text-align: right;\">\n",
       "      <th></th>\n",
       "      <th>amount_tsh</th>\n",
       "      <th>funder</th>\n",
       "      <th>gps_height</th>\n",
       "      <th>installer</th>\n",
       "      <th>longitude</th>\n",
       "      <th>latitude</th>\n",
       "      <th>basin</th>\n",
       "      <th>subvillage</th>\n",
       "      <th>region</th>\n",
       "      <th>region_code</th>\n",
       "      <th>...</th>\n",
       "      <th>scheme_management</th>\n",
       "      <th>permit</th>\n",
       "      <th>construction_year</th>\n",
       "      <th>extraction_type_class</th>\n",
       "      <th>payment_type</th>\n",
       "      <th>water_quality</th>\n",
       "      <th>quality_group</th>\n",
       "      <th>quantity</th>\n",
       "      <th>source_class</th>\n",
       "      <th>waterpoint_type</th>\n",
       "    </tr>\n",
       "  </thead>\n",
       "  <tbody>\n",
       "    <tr>\n",
       "      <th>0</th>\n",
       "      <td>6000.0</td>\n",
       "      <td>0.325511</td>\n",
       "      <td>1390</td>\n",
       "      <td>0.714117</td>\n",
       "      <td>34.938093</td>\n",
       "      <td>-9.856322</td>\n",
       "      <td>0.643500</td>\n",
       "      <td>0.405880</td>\n",
       "      <td>0.412435</td>\n",
       "      <td>11</td>\n",
       "      <td>...</td>\n",
       "      <td>0.905931</td>\n",
       "      <td>0.890347</td>\n",
       "      <td>1999</td>\n",
       "      <td>0.700640</td>\n",
       "      <td>0.427626</td>\n",
       "      <td>0.791295</td>\n",
       "      <td>0.791295</td>\n",
       "      <td>0.623040</td>\n",
       "      <td>0.855505</td>\n",
       "      <td>0.677798</td>\n",
       "    </tr>\n",
       "    <tr>\n",
       "      <th>1</th>\n",
       "      <td>0.0</td>\n",
       "      <td>0.385947</td>\n",
       "      <td>1399</td>\n",
       "      <td>0.321029</td>\n",
       "      <td>34.698766</td>\n",
       "      <td>-2.147466</td>\n",
       "      <td>0.908171</td>\n",
       "      <td>0.140194</td>\n",
       "      <td>1.069463</td>\n",
       "      <td>20</td>\n",
       "      <td>...</td>\n",
       "      <td>0.775543</td>\n",
       "      <td>0.821709</td>\n",
       "      <td>2010</td>\n",
       "      <td>0.700640</td>\n",
       "      <td>1.026938</td>\n",
       "      <td>0.791295</td>\n",
       "      <td>0.791295</td>\n",
       "      <td>0.857689</td>\n",
       "      <td>0.791795</td>\n",
       "      <td>0.677798</td>\n",
       "    </tr>\n",
       "    <tr>\n",
       "      <th>2</th>\n",
       "      <td>25.0</td>\n",
       "      <td>0.093462</td>\n",
       "      <td>686</td>\n",
       "      <td>0.559514</td>\n",
       "      <td>37.460664</td>\n",
       "      <td>-3.821329</td>\n",
       "      <td>0.744865</td>\n",
       "      <td>0.995708</td>\n",
       "      <td>0.692450</td>\n",
       "      <td>21</td>\n",
       "      <td>...</td>\n",
       "      <td>0.905931</td>\n",
       "      <td>0.821709</td>\n",
       "      <td>2009</td>\n",
       "      <td>0.700640</td>\n",
       "      <td>0.598914</td>\n",
       "      <td>0.791295</td>\n",
       "      <td>0.791295</td>\n",
       "      <td>0.623040</td>\n",
       "      <td>0.791795</td>\n",
       "      <td>1.161344</td>\n",
       "    </tr>\n",
       "    <tr>\n",
       "      <th>3</th>\n",
       "      <td>0.0</td>\n",
       "      <td>0.771116</td>\n",
       "      <td>263</td>\n",
       "      <td>0.887180</td>\n",
       "      <td>38.486161</td>\n",
       "      <td>-11.155298</td>\n",
       "      <td>1.183988</td>\n",
       "      <td>1.046731</td>\n",
       "      <td>1.321110</td>\n",
       "      <td>90</td>\n",
       "      <td>...</td>\n",
       "      <td>0.905931</td>\n",
       "      <td>0.821709</td>\n",
       "      <td>1986</td>\n",
       "      <td>0.881528</td>\n",
       "      <td>1.026938</td>\n",
       "      <td>0.791295</td>\n",
       "      <td>0.791295</td>\n",
       "      <td>1.943628</td>\n",
       "      <td>0.855505</td>\n",
       "      <td>1.161344</td>\n",
       "    </tr>\n",
       "    <tr>\n",
       "      <th>4</th>\n",
       "      <td>0.0</td>\n",
       "      <td>0.841162</td>\n",
       "      <td>0</td>\n",
       "      <td>0.844420</td>\n",
       "      <td>31.130847</td>\n",
       "      <td>-1.825359</td>\n",
       "      <td>0.908171</td>\n",
       "      <td>0.280387</td>\n",
       "      <td>0.866699</td>\n",
       "      <td>18</td>\n",
       "      <td>...</td>\n",
       "      <td>NaN</td>\n",
       "      <td>0.821709</td>\n",
       "      <td>0</td>\n",
       "      <td>0.700640</td>\n",
       "      <td>1.026938</td>\n",
       "      <td>0.791295</td>\n",
       "      <td>0.791295</td>\n",
       "      <td>0.749159</td>\n",
       "      <td>0.791795</td>\n",
       "      <td>0.677798</td>\n",
       "    </tr>\n",
       "    <tr>\n",
       "      <th>...</th>\n",
       "      <td>...</td>\n",
       "      <td>...</td>\n",
       "      <td>...</td>\n",
       "      <td>...</td>\n",
       "      <td>...</td>\n",
       "      <td>...</td>\n",
       "      <td>...</td>\n",
       "      <td>...</td>\n",
       "      <td>...</td>\n",
       "      <td>...</td>\n",
       "      <td>...</td>\n",
       "      <td>...</td>\n",
       "      <td>...</td>\n",
       "      <td>...</td>\n",
       "      <td>...</td>\n",
       "      <td>...</td>\n",
       "      <td>...</td>\n",
       "      <td>...</td>\n",
       "      <td>...</td>\n",
       "      <td>...</td>\n",
       "      <td>...</td>\n",
       "    </tr>\n",
       "    <tr>\n",
       "      <th>59395</th>\n",
       "      <td>10.0</td>\n",
       "      <td>0.235419</td>\n",
       "      <td>1210</td>\n",
       "      <td>0.235419</td>\n",
       "      <td>37.169807</td>\n",
       "      <td>-3.253847</td>\n",
       "      <td>0.744865</td>\n",
       "      <td>0.168232</td>\n",
       "      <td>0.720740</td>\n",
       "      <td>3</td>\n",
       "      <td>...</td>\n",
       "      <td>0.465566</td>\n",
       "      <td>0.821709</td>\n",
       "      <td>1999</td>\n",
       "      <td>0.700640</td>\n",
       "      <td>0.598914</td>\n",
       "      <td>0.791295</td>\n",
       "      <td>0.791295</td>\n",
       "      <td>0.623040</td>\n",
       "      <td>0.855505</td>\n",
       "      <td>0.677798</td>\n",
       "    </tr>\n",
       "    <tr>\n",
       "      <th>59396</th>\n",
       "      <td>4700.0</td>\n",
       "      <td>0.035048</td>\n",
       "      <td>1212</td>\n",
       "      <td>0.052573</td>\n",
       "      <td>35.249991</td>\n",
       "      <td>-9.070629</td>\n",
       "      <td>0.674419</td>\n",
       "      <td>0.056077</td>\n",
       "      <td>0.412435</td>\n",
       "      <td>11</td>\n",
       "      <td>...</td>\n",
       "      <td>0.905931</td>\n",
       "      <td>0.821709</td>\n",
       "      <td>1996</td>\n",
       "      <td>0.700640</td>\n",
       "      <td>0.427626</td>\n",
       "      <td>0.791295</td>\n",
       "      <td>0.791295</td>\n",
       "      <td>0.623040</td>\n",
       "      <td>0.791795</td>\n",
       "      <td>0.677798</td>\n",
       "    </tr>\n",
       "    <tr>\n",
       "      <th>59397</th>\n",
       "      <td>0.0</td>\n",
       "      <td>NaN</td>\n",
       "      <td>0</td>\n",
       "      <td>NaN</td>\n",
       "      <td>34.017087</td>\n",
       "      <td>-8.750434</td>\n",
       "      <td>0.674419</td>\n",
       "      <td>0.280387</td>\n",
       "      <td>0.891561</td>\n",
       "      <td>12</td>\n",
       "      <td>...</td>\n",
       "      <td>0.905931</td>\n",
       "      <td>0.890347</td>\n",
       "      <td>0</td>\n",
       "      <td>0.678607</td>\n",
       "      <td>0.567382</td>\n",
       "      <td>0.427070</td>\n",
       "      <td>0.494684</td>\n",
       "      <td>0.623040</td>\n",
       "      <td>0.855505</td>\n",
       "      <td>0.705463</td>\n",
       "    </tr>\n",
       "    <tr>\n",
       "      <th>59398</th>\n",
       "      <td>0.0</td>\n",
       "      <td>0.210290</td>\n",
       "      <td>0</td>\n",
       "      <td>0.806860</td>\n",
       "      <td>35.861315</td>\n",
       "      <td>-6.378573</td>\n",
       "      <td>0.674419</td>\n",
       "      <td>1.113646</td>\n",
       "      <td>0.988120</td>\n",
       "      <td>1</td>\n",
       "      <td>...</td>\n",
       "      <td>0.905931</td>\n",
       "      <td>0.821709</td>\n",
       "      <td>0</td>\n",
       "      <td>0.678607</td>\n",
       "      <td>1.026938</td>\n",
       "      <td>0.791295</td>\n",
       "      <td>0.791295</td>\n",
       "      <td>0.857689</td>\n",
       "      <td>0.855505</td>\n",
       "      <td>0.705463</td>\n",
       "    </tr>\n",
       "    <tr>\n",
       "      <th>59399</th>\n",
       "      <td>0.0</td>\n",
       "      <td>1.119882</td>\n",
       "      <td>191</td>\n",
       "      <td>0.892141</td>\n",
       "      <td>38.104048</td>\n",
       "      <td>-6.747464</td>\n",
       "      <td>0.907455</td>\n",
       "      <td>0.841162</td>\n",
       "      <td>0.867193</td>\n",
       "      <td>5</td>\n",
       "      <td>...</td>\n",
       "      <td>0.905931</td>\n",
       "      <td>0.821709</td>\n",
       "      <td>2002</td>\n",
       "      <td>0.678607</td>\n",
       "      <td>0.688082</td>\n",
       "      <td>1.039292</td>\n",
       "      <td>1.021140</td>\n",
       "      <td>0.623040</td>\n",
       "      <td>0.855505</td>\n",
       "      <td>0.705463</td>\n",
       "    </tr>\n",
       "  </tbody>\n",
       "</table>\n",
       "<p>59400 rows × 24 columns</p>\n",
       "</div>"
      ],
      "text/plain": [
       "       amount_tsh    funder  gps_height  installer  longitude   latitude  \\\n",
       "0          6000.0  0.325511        1390   0.714117  34.938093  -9.856322   \n",
       "1             0.0  0.385947        1399   0.321029  34.698766  -2.147466   \n",
       "2            25.0  0.093462         686   0.559514  37.460664  -3.821329   \n",
       "3             0.0  0.771116         263   0.887180  38.486161 -11.155298   \n",
       "4             0.0  0.841162           0   0.844420  31.130847  -1.825359   \n",
       "...           ...       ...         ...        ...        ...        ...   \n",
       "59395        10.0  0.235419        1210   0.235419  37.169807  -3.253847   \n",
       "59396      4700.0  0.035048        1212   0.052573  35.249991  -9.070629   \n",
       "59397         0.0       NaN           0        NaN  34.017087  -8.750434   \n",
       "59398         0.0  0.210290           0   0.806860  35.861315  -6.378573   \n",
       "59399         0.0  1.119882         191   0.892141  38.104048  -6.747464   \n",
       "\n",
       "          basin  subvillage    region  region_code  ...  scheme_management  \\\n",
       "0      0.643500    0.405880  0.412435           11  ...           0.905931   \n",
       "1      0.908171    0.140194  1.069463           20  ...           0.775543   \n",
       "2      0.744865    0.995708  0.692450           21  ...           0.905931   \n",
       "3      1.183988    1.046731  1.321110           90  ...           0.905931   \n",
       "4      0.908171    0.280387  0.866699           18  ...                NaN   \n",
       "...         ...         ...       ...          ...  ...                ...   \n",
       "59395  0.744865    0.168232  0.720740            3  ...           0.465566   \n",
       "59396  0.674419    0.056077  0.412435           11  ...           0.905931   \n",
       "59397  0.674419    0.280387  0.891561           12  ...           0.905931   \n",
       "59398  0.674419    1.113646  0.988120            1  ...           0.905931   \n",
       "59399  0.907455    0.841162  0.867193            5  ...           0.905931   \n",
       "\n",
       "         permit  construction_year  extraction_type_class  payment_type  \\\n",
       "0      0.890347               1999               0.700640      0.427626   \n",
       "1      0.821709               2010               0.700640      1.026938   \n",
       "2      0.821709               2009               0.700640      0.598914   \n",
       "3      0.821709               1986               0.881528      1.026938   \n",
       "4      0.821709                  0               0.700640      1.026938   \n",
       "...         ...                ...                    ...           ...   \n",
       "59395  0.821709               1999               0.700640      0.598914   \n",
       "59396  0.821709               1996               0.700640      0.427626   \n",
       "59397  0.890347                  0               0.678607      0.567382   \n",
       "59398  0.821709                  0               0.678607      1.026938   \n",
       "59399  0.821709               2002               0.678607      0.688082   \n",
       "\n",
       "       water_quality  quality_group  quantity  source_class  waterpoint_type  \n",
       "0           0.791295       0.791295  0.623040      0.855505         0.677798  \n",
       "1           0.791295       0.791295  0.857689      0.791795         0.677798  \n",
       "2           0.791295       0.791295  0.623040      0.791795         1.161344  \n",
       "3           0.791295       0.791295  1.943628      0.855505         1.161344  \n",
       "4           0.791295       0.791295  0.749159      0.791795         0.677798  \n",
       "...              ...            ...       ...           ...              ...  \n",
       "59395       0.791295       0.791295  0.623040      0.855505         0.677798  \n",
       "59396       0.791295       0.791295  0.623040      0.791795         0.677798  \n",
       "59397       0.427070       0.494684  0.623040      0.855505         0.705463  \n",
       "59398       0.791295       0.791295  0.857689      0.855505         0.705463  \n",
       "59399       1.039292       1.021140  0.623040      0.855505         0.705463  \n",
       "\n",
       "[59400 rows x 24 columns]"
      ]
     },
     "execution_count": 40,
     "metadata": {},
     "output_type": "execute_result"
    }
   ],
   "source": [
    "train_cbe"
   ]
  },
  {
   "cell_type": "markdown",
   "id": "4da7b160",
   "metadata": {},
   "source": [
    "Summary: The Catboost is a target-based encoder. As such, it encodes categorical features according to a the target value, which in this case is given by the \"status_group\" column."
   ]
  },
  {
   "cell_type": "markdown",
   "id": "b5bb02f4",
   "metadata": {},
   "source": [
    "## 4. Impute Missing Values Using KNN Imputer"
   ]
  },
  {
   "cell_type": "code",
   "execution_count": 11,
   "id": "a097fa17",
   "metadata": {},
   "outputs": [
    {
     "data": {
      "text/plain": [
       "id                           0\n",
       "amount_tsh                   0\n",
       "date_recorded                0\n",
       "funder                    3635\n",
       "gps_height                   0\n",
       "installer                 3655\n",
       "longitude                    0\n",
       "latitude                     0\n",
       "wpt_name                     0\n",
       "num_private                  0\n",
       "basin                        0\n",
       "subvillage                 371\n",
       "region                       0\n",
       "region_code                  0\n",
       "district_code                0\n",
       "lga                          0\n",
       "ward                         0\n",
       "population                   0\n",
       "public_meeting            3334\n",
       "recorded_by                  0\n",
       "scheme_management         3877\n",
       "scheme_name              28166\n",
       "permit                    3056\n",
       "construction_year            0\n",
       "extraction_type              0\n",
       "extraction_type_group        0\n",
       "extraction_type_class        0\n",
       "management                   0\n",
       "management_group             0\n",
       "payment                      0\n",
       "payment_type                 0\n",
       "water_quality                0\n",
       "quality_group                0\n",
       "quantity                     0\n",
       "quantity_group               0\n",
       "source                       0\n",
       "source_type                  0\n",
       "source_class                 0\n",
       "waterpoint_type              0\n",
       "waterpoint_type_group        0\n",
       "status_group                 0\n",
       "dtype: int64"
      ]
     },
     "execution_count": 11,
     "metadata": {},
     "output_type": "execute_result"
    }
   ],
   "source": [
    "# number of missing values in each column\n",
    "train_cbe.isnull().sum()"
   ]
  },
  {
   "cell_type": "code",
   "execution_count": 43,
   "id": "d1fccc35",
   "metadata": {},
   "outputs": [],
   "source": [
    "# scale the dataset\n",
    "from sklearn.preprocessing import StandardScaler\n",
    "\n",
    "scaler = StandardScaler()\n",
    "scaled_water_pumps_df = scaler.fit_transform(train_cbe)"
   ]
  },
  {
   "cell_type": "code",
   "execution_count": 45,
   "id": "00883f01",
   "metadata": {},
   "outputs": [
    {
     "data": {
      "text/plain": [
       "array([[ 1.89566509, -1.47005735,  1.04125207, ...,  0.53998534,\n",
       "        -0.49610572, -0.8856327 ],\n",
       "       [-0.10597003, -1.29988156,  1.05423701, ..., -1.85860517,\n",
       "        -0.49610572, -0.8856327 ],\n",
       "       [-0.09762988, -2.12346169,  0.02554104, ..., -1.85860517,\n",
       "         0.97229032, -0.8856327 ],\n",
       "       ...,\n",
       "       [-0.10597003,         nan, -0.96420011, ...,  0.53998534,\n",
       "        -0.41209575, -0.8856327 ],\n",
       "       [-0.10597003, -1.79449709, -0.96420011, ...,  0.53998534,\n",
       "        -0.41209575, -0.8856327 ],\n",
       "       [-0.10597003,  0.76673429, -0.68863079, ...,  0.53998534,\n",
       "        -0.41209575, -0.8856327 ]])"
      ]
     },
     "execution_count": 45,
     "metadata": {},
     "output_type": "execute_result"
    }
   ],
   "source": [
    "scaled_water_pumps_df"
   ]
  },
  {
   "cell_type": "code",
   "execution_count": 46,
   "id": "0e72de2c",
   "metadata": {},
   "outputs": [],
   "source": [
    "# convert array back to a dataframe\n",
    "scaled_water_pumps_df = pd.DataFrame(data = scaled_water_pumps_df, columns=train_cbe.columns, index=train_cbe.index)"
   ]
  },
  {
   "cell_type": "code",
   "execution_count": null,
   "id": "f63fc22c",
   "metadata": {},
   "outputs": [],
   "source": [
    "# merge scaled dataframe and target column\n",
    "scaled_water_pumps_df = train_cbe.join(target)"
   ]
  },
  {
   "cell_type": "code",
   "execution_count": 50,
   "id": "43257c8f",
   "metadata": {},
   "outputs": [],
   "source": [
    "# impute missing values\n",
    "from sklearn.impute import KNNImputer\n",
    "imputer = KNNImputer()\n",
    "filled_values = imputer.fit_transform(scaled_water_pumps_df)\n",
    "filled_df = pd.DataFrame(data=filled_values, columns=scaled_water_pumps_df.columns, index=scaled_water_pumps_df.index)"
   ]
  },
  {
   "cell_type": "code",
   "execution_count": 51,
   "id": "187b1631",
   "metadata": {},
   "outputs": [
    {
     "data": {
      "text/plain": [
       "amount_tsh               0\n",
       "funder                   0\n",
       "gps_height               0\n",
       "installer                0\n",
       "longitude                0\n",
       "latitude                 0\n",
       "basin                    0\n",
       "subvillage               0\n",
       "region                   0\n",
       "region_code              0\n",
       "district_code            0\n",
       "lga                      0\n",
       "ward                     0\n",
       "population               0\n",
       "scheme_management        0\n",
       "permit                   0\n",
       "construction_year        0\n",
       "extraction_type_class    0\n",
       "payment_type             0\n",
       "quality_group            0\n",
       "quantity                 0\n",
       "source_class             0\n",
       "waterpoint_type          0\n",
       "status_group             0\n",
       "dtype: int64"
      ]
     },
     "execution_count": 51,
     "metadata": {},
     "output_type": "execute_result"
    }
   ],
   "source": [
    "# check for missing values\n",
    "filled_df.isnull().sum()"
   ]
  },
  {
   "cell_type": "code",
   "execution_count": 53,
   "id": "d85f17eb",
   "metadata": {},
   "outputs": [],
   "source": [
    "# Saving a new csv file with cleaned dataset\n",
    "filled_df.to_csv('cleaned_water_pumps_data.csv')"
   ]
  },
  {
   "cell_type": "markdown",
   "id": "d4e5c05c",
   "metadata": {},
   "source": [
    "# Exploratory Data Analysis"
   ]
  },
  {
   "cell_type": "markdown",
   "id": "a30b8db2",
   "metadata": {},
   "source": [
    "## 1. Factors that Affect Water Pump Functionality"
   ]
  },
  {
   "cell_type": "code",
   "execution_count": 2,
   "id": "7faae5e9",
   "metadata": {},
   "outputs": [],
   "source": [
    "water_pumps = pd.read_csv('merged_water_pumps.csv')"
   ]
  },
  {
   "cell_type": "code",
   "execution_count": 5,
   "id": "6fe536a1",
   "metadata": {},
   "outputs": [
    {
     "name": "stderr",
     "output_type": "stream",
     "text": [
      "/Users/albertohernandez/opt/anaconda3/lib/python3.9/site-packages/seaborn/_decorators.py:36: FutureWarning: Pass the following variable as a keyword arg: x. From version 0.12, the only valid positional argument will be `data`, and passing other arguments without an explicit keyword will result in an error or misinterpretation.\n",
      "  warnings.warn(\n"
     ]
    },
    {
     "data": {
      "text/plain": [
       "<AxesSubplot:xlabel='status_group', ylabel='count'>"
      ]
     },
     "execution_count": 5,
     "metadata": {},
     "output_type": "execute_result"
    },
    {
     "data": {
      "image/png": "[encoded data removed]",
      "text/plain": [
       "<Figure size 432x288 with 1 Axes>"
      ]
     },
     "metadata": {},
     "output_type": "display_data"
    }
   ],
   "source": [
    "# bar plot showing the distribution of the status of water pumps\n",
    "sns.countplot(water_pumps['status_group'])"
   ]
  },
  {
   "cell_type": "code",
   "execution_count": 16,
   "id": "1f542661",
   "metadata": {},
   "outputs": [
    {
     "data": {
      "text/plain": [
       "<AxesSubplot:xlabel='payment'>"
      ]
     },
     "execution_count": 16,
     "metadata": {},
     "output_type": "execute_result"
    },
    {
     "data": {
      "image/png": "[encoded data removed]",
      "text/plain": [
       "<Figure size 1080x720 with 1 Axes>"
      ]
     },
     "metadata": {},
     "output_type": "display_data"
    }
   ],
   "source": [
    "# relationship between payment for service and water pump functionality\n",
    "water_pumps.groupby(['payment', 'status_group']).size().unstack().plot(kind='bar', stacked=True,figsize=(15, 10))"
   ]
  },
  {
   "cell_type": "code",
   "execution_count": 17,
   "id": "5c7cff37",
   "metadata": {},
   "outputs": [
    {
     "data": {
      "text/plain": [
       "<AxesSubplot:xlabel='quantity'>"
      ]
     },
     "execution_count": 17,
     "metadata": {},
     "output_type": "execute_result"
    },
    {
     "data": {
      "image/png": "[encoded data removed]",
      "text/plain": [
       "<Figure size 1080x720 with 1 Axes>"
      ]
     },
     "metadata": {},
     "output_type": "display_data"
    }
   ],
   "source": [
    "# relationship between quantity of water and water pump functionality\n",
    "water_pumps.groupby(['quantity', 'status_group']).size().unstack().plot(kind='bar', stacked=True,figsize=(15, 10))"
   ]
  },
  {
   "cell_type": "code",
   "execution_count": 18,
   "id": "7b2d9848",
   "metadata": {},
   "outputs": [
    {
     "data": {
      "text/plain": [
       "<AxesSubplot:xlabel='waterpoint_type'>"
      ]
     },
     "execution_count": 18,
     "metadata": {},
     "output_type": "execute_result"
    },
    {
     "data": {
      "image/png": "[encoded data removed]",
      "text/plain": [
       "<Figure size 1080x720 with 1 Axes>"
      ]
     },
     "metadata": {},
     "output_type": "display_data"
    }
   ],
   "source": [
    "# relationship between type and water pump functionality\n",
    "water_pumps.groupby(['waterpoint_type', 'status_group']).size().unstack().plot(kind='bar', stacked=True,figsize=(15, 10))"
   ]
  },
  {
   "cell_type": "code",
   "execution_count": 31,
   "id": "5e3ea349",
   "metadata": {},
   "outputs": [
    {
     "data": {
      "text/plain": [
       "<AxesSubplot:xlabel='basin'>"
      ]
     },
     "execution_count": 31,
     "metadata": {},
     "output_type": "execute_result"
    },
    {
     "data": {
      "image/png": "[encoded data removed]",
      "text/plain": [
       "<Figure size 1080x720 with 1 Axes>"
      ]
     },
     "metadata": {},
     "output_type": "display_data"
    }
   ],
   "source": [
    "# relationship between basin and water pump functionality\n",
    "water_pumps.groupby(['basin', 'status_group']).size().unstack().plot(kind='bar', stacked=True,figsize=(15, 10))"
   ]
  },
  {
   "cell_type": "code",
   "execution_count": 33,
   "id": "dc25e83b",
   "metadata": {},
   "outputs": [
    {
     "data": {
      "text/plain": [
       "<AxesSubplot:xlabel='extraction_type_class'>"
      ]
     },
     "execution_count": 33,
     "metadata": {},
     "output_type": "execute_result"
    },
    {
     "data": {
      "image/png": "[encoded data removed]",
      "text/plain": [
       "<Figure size 1080x720 with 1 Axes>"
      ]
     },
     "metadata": {},
     "output_type": "display_data"
    }
   ],
   "source": [
    "# relationship between quantity of water and water pump functionality\n",
    "water_pumps.groupby(['extraction_type_class', 'status_group']).size().unstack().plot(kind='bar', stacked=True,figsize=(15, 10))"
   ]
  },
  {
   "cell_type": "code",
   "execution_count": 29,
   "id": "57c12257",
   "metadata": {},
   "outputs": [
    {
     "data": {
      "text/plain": [
       "<AxesSubplot:xlabel='quality_group'>"
      ]
     },
     "execution_count": 29,
     "metadata": {},
     "output_type": "execute_result"
    },
    {
     "data": {
      "image/png": "[encoded data removed]",
      "text/plain": [
       "<Figure size 1080x720 with 1 Axes>"
      ]
     },
     "metadata": {},
     "output_type": "display_data"
    }
   ],
   "source": [
    "# relationship between quality of water and water pump functionality\n",
    "water_pumps.groupby(['quality_group', 'status_group']).size().unstack().plot(kind='bar', stacked=True,figsize=(15, 10))"
   ]
  },
  {
   "cell_type": "code",
   "execution_count": 4,
   "id": "c930f763",
   "metadata": {},
   "outputs": [],
   "source": [
    "# selecting all water pumps that are non-functional\n",
    "non_functional_pumps = water_pumps[water_pumps.status_group == 'non functional']"
   ]
  },
  {
   "cell_type": "code",
   "execution_count": 5,
   "id": "934cd4b4",
   "metadata": {},
   "outputs": [],
   "source": [
    "# selecting all water pumps that are functional\n",
    "functional_pumps = water_pumps[water_pumps.status_group == 'functional']"
   ]
  },
  {
   "cell_type": "code",
   "execution_count": 6,
   "id": "8e93ee33",
   "metadata": {},
   "outputs": [],
   "source": [
    "# selecting all water pumps that are functional but need repair\n",
    "functional_repair_pumps = water_pumps[water_pumps.status_group == 'functional needs repair']"
   ]
  },
  {
   "cell_type": "code",
   "execution_count": 34,
   "id": "87143462",
   "metadata": {},
   "outputs": [
    {
     "data": {
      "text/html": [
       "<div>\n",
       "<style scoped>\n",
       "    .dataframe tbody tr th:only-of-type {\n",
       "        vertical-align: middle;\n",
       "    }\n",
       "\n",
       "    .dataframe tbody tr th {\n",
       "        vertical-align: top;\n",
       "    }\n",
       "\n",
       "    .dataframe thead th {\n",
       "        text-align: right;\n",
       "    }\n",
       "</style>\n",
       "<table border=\"1\" class=\"dataframe\">\n",
       "  <thead>\n",
       "    <tr style=\"text-align: right;\">\n",
       "      <th></th>\n",
       "      <th>count</th>\n",
       "      <th>mean</th>\n",
       "      <th>std</th>\n",
       "      <th>min</th>\n",
       "      <th>25%</th>\n",
       "      <th>50%</th>\n",
       "      <th>75%</th>\n",
       "      <th>max</th>\n",
       "    </tr>\n",
       "  </thead>\n",
       "  <tbody>\n",
       "    <tr>\n",
       "      <th>Unnamed: 0</th>\n",
       "      <td>22824.0</td>\n",
       "      <td>29691.028566</td>\n",
       "      <td>17147.831974</td>\n",
       "      <td>3.000000</td>\n",
       "      <td>14845.000000</td>\n",
       "      <td>29723.000000</td>\n",
       "      <td>44553.250000</td>\n",
       "      <td>5.939400e+04</td>\n",
       "    </tr>\n",
       "    <tr>\n",
       "      <th>id</th>\n",
       "      <td>22824.0</td>\n",
       "      <td>37219.076498</td>\n",
       "      <td>21424.426675</td>\n",
       "      <td>0.000000</td>\n",
       "      <td>18764.250000</td>\n",
       "      <td>37290.000000</td>\n",
       "      <td>55602.000000</td>\n",
       "      <td>7.424700e+04</td>\n",
       "    </tr>\n",
       "    <tr>\n",
       "      <th>amount_tsh</th>\n",
       "      <td>22824.0</td>\n",
       "      <td>123.481230</td>\n",
       "      <td>1110.120571</td>\n",
       "      <td>0.000000</td>\n",
       "      <td>0.000000</td>\n",
       "      <td>0.000000</td>\n",
       "      <td>0.000000</td>\n",
       "      <td>1.170000e+05</td>\n",
       "    </tr>\n",
       "    <tr>\n",
       "      <th>gps_height</th>\n",
       "      <td>22824.0</td>\n",
       "      <td>574.464774</td>\n",
       "      <td>642.752316</td>\n",
       "      <td>-59.000000</td>\n",
       "      <td>0.000000</td>\n",
       "      <td>293.000000</td>\n",
       "      <td>1211.000000</td>\n",
       "      <td>2.627000e+03</td>\n",
       "    </tr>\n",
       "    <tr>\n",
       "      <th>longitude</th>\n",
       "      <td>22824.0</td>\n",
       "      <td>34.381006</td>\n",
       "      <td>6.059035</td>\n",
       "      <td>0.000000</td>\n",
       "      <td>33.002248</td>\n",
       "      <td>34.958415</td>\n",
       "      <td>37.567890</td>\n",
       "      <td>4.034430e+01</td>\n",
       "    </tr>\n",
       "    <tr>\n",
       "      <th>latitude</th>\n",
       "      <td>22824.0</td>\n",
       "      <td>-5.810394</td>\n",
       "      <td>2.973262</td>\n",
       "      <td>-11.586297</td>\n",
       "      <td>-8.515783</td>\n",
       "      <td>-5.421238</td>\n",
       "      <td>-3.350447</td>\n",
       "      <td>-2.000000e-08</td>\n",
       "    </tr>\n",
       "    <tr>\n",
       "      <th>num_private</th>\n",
       "      <td>22824.0</td>\n",
       "      <td>0.413950</td>\n",
       "      <td>12.837552</td>\n",
       "      <td>0.000000</td>\n",
       "      <td>0.000000</td>\n",
       "      <td>0.000000</td>\n",
       "      <td>0.000000</td>\n",
       "      <td>1.776000e+03</td>\n",
       "    </tr>\n",
       "    <tr>\n",
       "      <th>region_code</th>\n",
       "      <td>22824.0</td>\n",
       "      <td>17.644585</td>\n",
       "      <td>21.062313</td>\n",
       "      <td>1.000000</td>\n",
       "      <td>5.000000</td>\n",
       "      <td>13.000000</td>\n",
       "      <td>18.000000</td>\n",
       "      <td>9.900000e+01</td>\n",
       "    </tr>\n",
       "    <tr>\n",
       "      <th>district_code</th>\n",
       "      <td>22824.0</td>\n",
       "      <td>6.494173</td>\n",
       "      <td>11.255356</td>\n",
       "      <td>0.000000</td>\n",
       "      <td>2.000000</td>\n",
       "      <td>3.000000</td>\n",
       "      <td>5.000000</td>\n",
       "      <td>8.000000e+01</td>\n",
       "    </tr>\n",
       "    <tr>\n",
       "      <th>population</th>\n",
       "      <td>22824.0</td>\n",
       "      <td>170.016430</td>\n",
       "      <td>413.094978</td>\n",
       "      <td>0.000000</td>\n",
       "      <td>0.000000</td>\n",
       "      <td>1.000000</td>\n",
       "      <td>230.000000</td>\n",
       "      <td>9.865000e+03</td>\n",
       "    </tr>\n",
       "    <tr>\n",
       "      <th>construction_year</th>\n",
       "      <td>22824.0</td>\n",
       "      <td>1262.183491</td>\n",
       "      <td>960.112104</td>\n",
       "      <td>0.000000</td>\n",
       "      <td>0.000000</td>\n",
       "      <td>1980.000000</td>\n",
       "      <td>1999.000000</td>\n",
       "      <td>2.013000e+03</td>\n",
       "    </tr>\n",
       "  </tbody>\n",
       "</table>\n",
       "</div>"
      ],
      "text/plain": [
       "                     count          mean           std        min  \\\n",
       "Unnamed: 0         22824.0  29691.028566  17147.831974   3.000000   \n",
       "id                 22824.0  37219.076498  21424.426675   0.000000   \n",
       "amount_tsh         22824.0    123.481230   1110.120571   0.000000   \n",
       "gps_height         22824.0    574.464774    642.752316 -59.000000   \n",
       "longitude          22824.0     34.381006      6.059035   0.000000   \n",
       "latitude           22824.0     -5.810394      2.973262 -11.586297   \n",
       "num_private        22824.0      0.413950     12.837552   0.000000   \n",
       "region_code        22824.0     17.644585     21.062313   1.000000   \n",
       "district_code      22824.0      6.494173     11.255356   0.000000   \n",
       "population         22824.0    170.016430    413.094978   0.000000   \n",
       "construction_year  22824.0   1262.183491    960.112104   0.000000   \n",
       "\n",
       "                            25%           50%           75%           max  \n",
       "Unnamed: 0         14845.000000  29723.000000  44553.250000  5.939400e+04  \n",
       "id                 18764.250000  37290.000000  55602.000000  7.424700e+04  \n",
       "amount_tsh             0.000000      0.000000      0.000000  1.170000e+05  \n",
       "gps_height             0.000000    293.000000   1211.000000  2.627000e+03  \n",
       "longitude             33.002248     34.958415     37.567890  4.034430e+01  \n",
       "latitude              -8.515783     -5.421238     -3.350447 -2.000000e-08  \n",
       "num_private            0.000000      0.000000      0.000000  1.776000e+03  \n",
       "region_code            5.000000     13.000000     18.000000  9.900000e+01  \n",
       "district_code          2.000000      3.000000      5.000000  8.000000e+01  \n",
       "population             0.000000      1.000000    230.000000  9.865000e+03  \n",
       "construction_year      0.000000   1980.000000   1999.000000  2.013000e+03  "
      ]
     },
     "execution_count": 34,
     "metadata": {},
     "output_type": "execute_result"
    }
   ],
   "source": [
    "# quantitative description of non-functional pumps\n",
    "non_functional_pumps.describe().T"
   ]
  },
  {
   "cell_type": "code",
   "execution_count": 7,
   "id": "0b6905aa",
   "metadata": {},
   "outputs": [
    {
     "data": {
      "text/html": [
       "<div>\n",
       "<style scoped>\n",
       "    .dataframe tbody tr th:only-of-type {\n",
       "        vertical-align: middle;\n",
       "    }\n",
       "\n",
       "    .dataframe tbody tr th {\n",
       "        vertical-align: top;\n",
       "    }\n",
       "\n",
       "    .dataframe thead th {\n",
       "        text-align: right;\n",
       "    }\n",
       "</style>\n",
       "<table border=\"1\" class=\"dataframe\">\n",
       "  <thead>\n",
       "    <tr style=\"text-align: right;\">\n",
       "      <th></th>\n",
       "      <th>count</th>\n",
       "      <th>mean</th>\n",
       "      <th>std</th>\n",
       "      <th>min</th>\n",
       "      <th>25%</th>\n",
       "      <th>50%</th>\n",
       "      <th>75%</th>\n",
       "      <th>max</th>\n",
       "    </tr>\n",
       "  </thead>\n",
       "  <tbody>\n",
       "    <tr>\n",
       "      <th>Unnamed: 0</th>\n",
       "      <td>4317.0</td>\n",
       "      <td>29601.585129</td>\n",
       "      <td>17083.395794</td>\n",
       "      <td>18.00000</td>\n",
       "      <td>14866.000000</td>\n",
       "      <td>29818.000000</td>\n",
       "      <td>44451.000000</td>\n",
       "      <td>5.936500e+04</td>\n",
       "    </tr>\n",
       "    <tr>\n",
       "      <th>id</th>\n",
       "      <td>4317.0</td>\n",
       "      <td>37151.263609</td>\n",
       "      <td>21340.576248</td>\n",
       "      <td>20.00000</td>\n",
       "      <td>18715.000000</td>\n",
       "      <td>37180.000000</td>\n",
       "      <td>55706.000000</td>\n",
       "      <td>7.423300e+04</td>\n",
       "    </tr>\n",
       "    <tr>\n",
       "      <th>amount_tsh</th>\n",
       "      <td>4317.0</td>\n",
       "      <td>267.071577</td>\n",
       "      <td>1925.026420</td>\n",
       "      <td>0.00000</td>\n",
       "      <td>0.000000</td>\n",
       "      <td>0.000000</td>\n",
       "      <td>50.000000</td>\n",
       "      <td>1.000000e+05</td>\n",
       "    </tr>\n",
       "    <tr>\n",
       "      <th>gps_height</th>\n",
       "      <td>4317.0</td>\n",
       "      <td>627.607135</td>\n",
       "      <td>648.397850</td>\n",
       "      <td>-51.00000</td>\n",
       "      <td>0.000000</td>\n",
       "      <td>385.000000</td>\n",
       "      <td>1243.000000</td>\n",
       "      <td>2.770000e+03</td>\n",
       "    </tr>\n",
       "    <tr>\n",
       "      <th>longitude</th>\n",
       "      <td>4317.0</td>\n",
       "      <td>31.242086</td>\n",
       "      <td>10.169667</td>\n",
       "      <td>0.00000</td>\n",
       "      <td>30.799300</td>\n",
       "      <td>33.827215</td>\n",
       "      <td>36.668018</td>\n",
       "      <td>4.028360e+01</td>\n",
       "    </tr>\n",
       "    <tr>\n",
       "      <th>latitude</th>\n",
       "      <td>4317.0</td>\n",
       "      <td>-5.162580</td>\n",
       "      <td>3.099036</td>\n",
       "      <td>-11.64944</td>\n",
       "      <td>-7.860679</td>\n",
       "      <td>-4.656811</td>\n",
       "      <td>-3.158054</td>\n",
       "      <td>-2.000000e-08</td>\n",
       "    </tr>\n",
       "    <tr>\n",
       "      <th>num_private</th>\n",
       "      <td>4317.0</td>\n",
       "      <td>0.307621</td>\n",
       "      <td>4.736658</td>\n",
       "      <td>0.00000</td>\n",
       "      <td>0.000000</td>\n",
       "      <td>0.000000</td>\n",
       "      <td>0.000000</td>\n",
       "      <td>1.600000e+02</td>\n",
       "    </tr>\n",
       "    <tr>\n",
       "      <th>region_code</th>\n",
       "      <td>4317.0</td>\n",
       "      <td>15.443595</td>\n",
       "      <td>16.346936</td>\n",
       "      <td>1.00000</td>\n",
       "      <td>6.000000</td>\n",
       "      <td>15.000000</td>\n",
       "      <td>17.000000</td>\n",
       "      <td>9.900000e+01</td>\n",
       "    </tr>\n",
       "    <tr>\n",
       "      <th>district_code</th>\n",
       "      <td>4317.0</td>\n",
       "      <td>4.759092</td>\n",
       "      <td>8.062250</td>\n",
       "      <td>0.00000</td>\n",
       "      <td>1.000000</td>\n",
       "      <td>3.000000</td>\n",
       "      <td>4.000000</td>\n",
       "      <td>8.000000e+01</td>\n",
       "    </tr>\n",
       "    <tr>\n",
       "      <th>population</th>\n",
       "      <td>4317.0</td>\n",
       "      <td>175.102154</td>\n",
       "      <td>433.033756</td>\n",
       "      <td>0.00000</td>\n",
       "      <td>0.000000</td>\n",
       "      <td>25.000000</td>\n",
       "      <td>245.000000</td>\n",
       "      <td>1.530000e+04</td>\n",
       "    </tr>\n",
       "    <tr>\n",
       "      <th>construction_year</th>\n",
       "      <td>4317.0</td>\n",
       "      <td>1168.406764</td>\n",
       "      <td>983.063724</td>\n",
       "      <td>0.00000</td>\n",
       "      <td>0.000000</td>\n",
       "      <td>1978.000000</td>\n",
       "      <td>2000.000000</td>\n",
       "      <td>2.013000e+03</td>\n",
       "    </tr>\n",
       "  </tbody>\n",
       "</table>\n",
       "</div>"
      ],
      "text/plain": [
       "                    count          mean           std       min           25%  \\\n",
       "Unnamed: 0         4317.0  29601.585129  17083.395794  18.00000  14866.000000   \n",
       "id                 4317.0  37151.263609  21340.576248  20.00000  18715.000000   \n",
       "amount_tsh         4317.0    267.071577   1925.026420   0.00000      0.000000   \n",
       "gps_height         4317.0    627.607135    648.397850 -51.00000      0.000000   \n",
       "longitude          4317.0     31.242086     10.169667   0.00000     30.799300   \n",
       "latitude           4317.0     -5.162580      3.099036 -11.64944     -7.860679   \n",
       "num_private        4317.0      0.307621      4.736658   0.00000      0.000000   \n",
       "region_code        4317.0     15.443595     16.346936   1.00000      6.000000   \n",
       "district_code      4317.0      4.759092      8.062250   0.00000      1.000000   \n",
       "population         4317.0    175.102154    433.033756   0.00000      0.000000   \n",
       "construction_year  4317.0   1168.406764    983.063724   0.00000      0.000000   \n",
       "\n",
       "                            50%           75%           max  \n",
       "Unnamed: 0         29818.000000  44451.000000  5.936500e+04  \n",
       "id                 37180.000000  55706.000000  7.423300e+04  \n",
       "amount_tsh             0.000000     50.000000  1.000000e+05  \n",
       "gps_height           385.000000   1243.000000  2.770000e+03  \n",
       "longitude             33.827215     36.668018  4.028360e+01  \n",
       "latitude              -4.656811     -3.158054 -2.000000e-08  \n",
       "num_private            0.000000      0.000000  1.600000e+02  \n",
       "region_code           15.000000     17.000000  9.900000e+01  \n",
       "district_code          3.000000      4.000000  8.000000e+01  \n",
       "population            25.000000    245.000000  1.530000e+04  \n",
       "construction_year   1978.000000   2000.000000  2.013000e+03  "
      ]
     },
     "execution_count": 7,
     "metadata": {},
     "output_type": "execute_result"
    }
   ],
   "source": [
    "# quantitative description of functional but need repair pumps\n",
    "functional_repair_pumps.describe().T"
   ]
  },
  {
   "cell_type": "code",
   "execution_count": 43,
   "id": "2468fe78",
   "metadata": {},
   "outputs": [
    {
     "data": {
      "text/html": [
       "<div>\n",
       "<style scoped>\n",
       "    .dataframe tbody tr th:only-of-type {\n",
       "        vertical-align: middle;\n",
       "    }\n",
       "\n",
       "    .dataframe tbody tr th {\n",
       "        vertical-align: top;\n",
       "    }\n",
       "\n",
       "    .dataframe thead th {\n",
       "        text-align: right;\n",
       "    }\n",
       "</style>\n",
       "<table border=\"1\" class=\"dataframe\">\n",
       "  <thead>\n",
       "    <tr style=\"text-align: right;\">\n",
       "      <th></th>\n",
       "      <th>count</th>\n",
       "      <th>mean</th>\n",
       "      <th>std</th>\n",
       "      <th>min</th>\n",
       "      <th>25%</th>\n",
       "      <th>50%</th>\n",
       "      <th>75%</th>\n",
       "      <th>max</th>\n",
       "    </tr>\n",
       "  </thead>\n",
       "  <tbody>\n",
       "    <tr>\n",
       "      <th>Unnamed: 0</th>\n",
       "      <td>32259.0</td>\n",
       "      <td>29718.597012</td>\n",
       "      <td>17156.208846</td>\n",
       "      <td>0.000000</td>\n",
       "      <td>14851.500000</td>\n",
       "      <td>29665.000000</td>\n",
       "      <td>44564.000000</td>\n",
       "      <td>5.939900e+04</td>\n",
       "    </tr>\n",
       "    <tr>\n",
       "      <th>id</th>\n",
       "      <td>32259.0</td>\n",
       "      <td>37036.753154</td>\n",
       "      <td>21488.751249</td>\n",
       "      <td>1.000000</td>\n",
       "      <td>18324.500000</td>\n",
       "      <td>36888.000000</td>\n",
       "      <td>55682.000000</td>\n",
       "      <td>7.424200e+04</td>\n",
       "    </tr>\n",
       "    <tr>\n",
       "      <th>amount_tsh</th>\n",
       "      <td>32259.0</td>\n",
       "      <td>461.798235</td>\n",
       "      <td>3889.735284</td>\n",
       "      <td>0.000000</td>\n",
       "      <td>0.000000</td>\n",
       "      <td>0.000000</td>\n",
       "      <td>50.000000</td>\n",
       "      <td>3.500000e+05</td>\n",
       "    </tr>\n",
       "    <tr>\n",
       "      <th>gps_height</th>\n",
       "      <td>32259.0</td>\n",
       "      <td>740.131188</td>\n",
       "      <td>724.193683</td>\n",
       "      <td>-90.000000</td>\n",
       "      <td>0.000000</td>\n",
       "      <td>550.000000</td>\n",
       "      <td>1404.000000</td>\n",
       "      <td>2.628000e+03</td>\n",
       "    </tr>\n",
       "    <tr>\n",
       "      <th>longitude</th>\n",
       "      <td>32259.0</td>\n",
       "      <td>34.242071</td>\n",
       "      <td>6.200054</td>\n",
       "      <td>0.000000</td>\n",
       "      <td>33.368557</td>\n",
       "      <td>34.969884</td>\n",
       "      <td>37.057074</td>\n",
       "      <td>4.034519e+01</td>\n",
       "    </tr>\n",
       "    <tr>\n",
       "      <th>latitude</th>\n",
       "      <td>32259.0</td>\n",
       "      <td>-5.704921</td>\n",
       "      <td>2.897323</td>\n",
       "      <td>-11.564324</td>\n",
       "      <td>-8.640908</td>\n",
       "      <td>-4.904257</td>\n",
       "      <td>-3.322252</td>\n",
       "      <td>-2.000000e-08</td>\n",
       "    </tr>\n",
       "    <tr>\n",
       "      <th>num_private</th>\n",
       "      <td>32259.0</td>\n",
       "      <td>0.539012</td>\n",
       "      <td>12.493497</td>\n",
       "      <td>0.000000</td>\n",
       "      <td>0.000000</td>\n",
       "      <td>0.000000</td>\n",
       "      <td>0.000000</td>\n",
       "      <td>1.402000e+03</td>\n",
       "    </tr>\n",
       "    <tr>\n",
       "      <th>region_code</th>\n",
       "      <td>32259.0</td>\n",
       "      <td>13.616417</td>\n",
       "      <td>14.602030</td>\n",
       "      <td>1.000000</td>\n",
       "      <td>5.000000</td>\n",
       "      <td>11.000000</td>\n",
       "      <td>17.000000</td>\n",
       "      <td>9.900000e+01</td>\n",
       "    </tr>\n",
       "    <tr>\n",
       "      <th>district_code</th>\n",
       "      <td>32259.0</td>\n",
       "      <td>5.134660</td>\n",
       "      <td>8.467026</td>\n",
       "      <td>0.000000</td>\n",
       "      <td>2.000000</td>\n",
       "      <td>3.000000</td>\n",
       "      <td>5.000000</td>\n",
       "      <td>8.000000e+01</td>\n",
       "    </tr>\n",
       "    <tr>\n",
       "      <th>population</th>\n",
       "      <td>32259.0</td>\n",
       "      <td>187.553303</td>\n",
       "      <td>513.198991</td>\n",
       "      <td>0.000000</td>\n",
       "      <td>0.000000</td>\n",
       "      <td>40.000000</td>\n",
       "      <td>200.000000</td>\n",
       "      <td>3.050000e+04</td>\n",
       "    </tr>\n",
       "    <tr>\n",
       "      <th>construction_year</th>\n",
       "      <td>32259.0</td>\n",
       "      <td>1345.567718</td>\n",
       "      <td>938.407231</td>\n",
       "      <td>0.000000</td>\n",
       "      <td>0.000000</td>\n",
       "      <td>1995.000000</td>\n",
       "      <td>2007.000000</td>\n",
       "      <td>2.013000e+03</td>\n",
       "    </tr>\n",
       "  </tbody>\n",
       "</table>\n",
       "</div>"
      ],
      "text/plain": [
       "                     count          mean           std        min  \\\n",
       "Unnamed: 0         32259.0  29718.597012  17156.208846   0.000000   \n",
       "id                 32259.0  37036.753154  21488.751249   1.000000   \n",
       "amount_tsh         32259.0    461.798235   3889.735284   0.000000   \n",
       "gps_height         32259.0    740.131188    724.193683 -90.000000   \n",
       "longitude          32259.0     34.242071      6.200054   0.000000   \n",
       "latitude           32259.0     -5.704921      2.897323 -11.564324   \n",
       "num_private        32259.0      0.539012     12.493497   0.000000   \n",
       "region_code        32259.0     13.616417     14.602030   1.000000   \n",
       "district_code      32259.0      5.134660      8.467026   0.000000   \n",
       "population         32259.0    187.553303    513.198991   0.000000   \n",
       "construction_year  32259.0   1345.567718    938.407231   0.000000   \n",
       "\n",
       "                            25%           50%           75%           max  \n",
       "Unnamed: 0         14851.500000  29665.000000  44564.000000  5.939900e+04  \n",
       "id                 18324.500000  36888.000000  55682.000000  7.424200e+04  \n",
       "amount_tsh             0.000000      0.000000     50.000000  3.500000e+05  \n",
       "gps_height             0.000000    550.000000   1404.000000  2.628000e+03  \n",
       "longitude             33.368557     34.969884     37.057074  4.034519e+01  \n",
       "latitude              -8.640908     -4.904257     -3.322252 -2.000000e-08  \n",
       "num_private            0.000000      0.000000      0.000000  1.402000e+03  \n",
       "region_code            5.000000     11.000000     17.000000  9.900000e+01  \n",
       "district_code          2.000000      3.000000      5.000000  8.000000e+01  \n",
       "population             0.000000     40.000000    200.000000  3.050000e+04  \n",
       "construction_year      0.000000   1995.000000   2007.000000  2.013000e+03  "
      ]
     },
     "execution_count": 43,
     "metadata": {},
     "output_type": "execute_result"
    }
   ],
   "source": [
    "# quantitative description of functional pumps\n",
    "functional_pumps.describe().T"
   ]
  },
  {
   "cell_type": "code",
   "execution_count": 33,
   "id": "74c96b2e",
   "metadata": {},
   "outputs": [
    {
     "data": {
      "text/plain": [
       "array([[<AxesSubplot:title={'center':'construction_year'}>]], dtype=object)"
      ]
     },
     "execution_count": 33,
     "metadata": {},
     "output_type": "execute_result"
    },
    {
     "data": {
      "image/png": "[encoded data removed]",
      "text/plain": [
       "<Figure size 432x288 with 1 Axes>"
      ]
     },
     "metadata": {},
     "output_type": "display_data"
    }
   ],
   "source": [
    "# construction year histogram\n",
    "non_functional_pumps = non_functional_pumps[non_functional_pumps.construction_year != 0]\n",
    "non_functional_pumps.hist(column='construction_year')"
   ]
  },
  {
   "cell_type": "code",
   "execution_count": 37,
   "id": "1ea4039c",
   "metadata": {},
   "outputs": [
    {
     "data": {
      "text/plain": [
       "array([[<AxesSubplot:title={'center':'construction_year'}>]], dtype=object)"
      ]
     },
     "execution_count": 37,
     "metadata": {},
     "output_type": "execute_result"
    },
    {
     "data": {
      "image/png": "[encoded data removed]",
      "text/plain": [
       "<Figure size 432x288 with 1 Axes>"
      ]
     },
     "metadata": {},
     "output_type": "display_data"
    }
   ],
   "source": [
    "# construction year histogram\n",
    "functional_pumps = functional_pumps[functional_pumps.construction_year != 0]\n",
    "functional_pumps.hist(column='construction_year')"
   ]
  },
  {
   "cell_type": "code",
   "execution_count": 56,
   "id": "d7ddb17e",
   "metadata": {},
   "outputs": [
    {
     "data": {
      "text/plain": [
       "subvillage\n",
       "Majengo     232\n",
       "Shuleni     231\n",
       "Madukani    217\n",
       "Kati        115\n",
       "Sokoni      108\n",
       "Name: status_group, dtype: int64"
      ]
     },
     "execution_count": 56,
     "metadata": {},
     "output_type": "execute_result"
    }
   ],
   "source": [
    "# sorted list of villages with the highest number of non-functional pumps\n",
    "non_functional_pumps.groupby(['subvillage'])['status_group'].count().sort_values(ascending=False).head()"
   ]
  },
  {
   "cell_type": "code",
   "execution_count": 57,
   "id": "b9c48fb5",
   "metadata": {},
   "outputs": [
    {
     "data": {
      "text/plain": [
       "ward\n",
       "Mishamo     145\n",
       "Bungu        81\n",
       "Kikatiti     73\n",
       "Ipande       72\n",
       "Nduruma      64\n",
       "Name: status_group, dtype: int64"
      ]
     },
     "execution_count": 57,
     "metadata": {},
     "output_type": "execute_result"
    }
   ],
   "source": [
    "# sorted list of wards with the highest number of non-functional pumps\n",
    "non_functional_pumps.groupby(['ward'])['status_group'].count().sort_values(ascending=False).head()"
   ]
  },
  {
   "cell_type": "code",
   "execution_count": 6,
   "id": "1cefa37e",
   "metadata": {},
   "outputs": [
    {
     "data": {
      "text/plain": [
       "installer\n",
       "DWE                   6347\n",
       "Government            1034\n",
       "RWE                    765\n",
       "Central government     450\n",
       "DANIDA                 425\n",
       "Name: status_group, dtype: int64"
      ]
     },
     "execution_count": 6,
     "metadata": {},
     "output_type": "execute_result"
    }
   ],
   "source": [
    "# most common installers of non-functional pumps\n",
    "non_functional_pumps.groupby(['installer'])['status_group'].count().sort_values(ascending=False).head()"
   ]
  },
  {
   "cell_type": "code",
   "execution_count": 7,
   "id": "d71d39ef",
   "metadata": {},
   "outputs": [
    {
     "data": {
      "text/plain": [
       "funder\n",
       "Government Of Tanzania    4663\n",
       "Danida                    1242\n",
       "Hesawa                    1034\n",
       "World Bank                 707\n",
       "Kkkt                       498\n",
       "Name: status_group, dtype: int64"
      ]
     },
     "execution_count": 7,
     "metadata": {},
     "output_type": "execute_result"
    }
   ],
   "source": [
    "# most common funders of non-functional pumps\n",
    "non_functional_pumps.groupby(['funder'])['status_group'].count().sort_values(ascending=False).head()"
   ]
  },
  {
   "cell_type": "code",
   "execution_count": 8,
   "id": "a90a28be",
   "metadata": {},
   "outputs": [
    {
     "data": {
      "text/plain": [
       "installer\n",
       "DWE           9433\n",
       "Commu          724\n",
       "DANIDA         542\n",
       "CES            538\n",
       "Government     535\n",
       "Name: status_group, dtype: int64"
      ]
     },
     "execution_count": 8,
     "metadata": {},
     "output_type": "execute_result"
    }
   ],
   "source": [
    "# most common installers of functional pumps\n",
    "functional_pumps.groupby(['installer'])['status_group'].count().sort_values(ascending=False).head()"
   ]
  },
  {
   "cell_type": "code",
   "execution_count": 9,
   "id": "c98eac9a",
   "metadata": {},
   "outputs": [
    {
     "data": {
      "text/plain": [
       "funder\n",
       "Government Of Tanzania    3720\n",
       "Danida                    1713\n",
       "Hesawa                     936\n",
       "Rwssp                      805\n",
       "World Vision               743\n",
       "Name: status_group, dtype: int64"
      ]
     },
     "execution_count": 9,
     "metadata": {},
     "output_type": "execute_result"
    }
   ],
   "source": [
    "# most common funder of functional pumps\n",
    "functional_pumps.groupby(['funder'])['status_group'].count().sort_values(ascending=False).head()"
   ]
  },
  {
   "cell_type": "markdown",
   "id": "f3506b89",
   "metadata": {},
   "source": [
    "Summary: Most water pumps in Tanzania are functional. The highest concentration of non-functional water pumps is located in the Mishamo, Bungu, and Kikatiti wards. More specifically, the Majengo, Shuleni, and Madukani subvillages are most affected.\n",
    "\n",
    "Interestingly, the installer of a waterpump does affects functionality, but the opposite is true for the funder.\n",
    "\n",
    "Some factors that determine water pump functionality include year of construction, payment type, source type, and water pump type. When it comes to the first of these factors, it appears that payment for a service (in this case acess to water) leads to a more dependable water pump. What was also discovered is that Lake Rukwa and the Souther Coast of Tanzania are non-optimal sources of water. Finally, water pumps that do not extract water via a handpump, gravity, or a submersible mechanism tend to fail. \n"
   ]
  },
  {
   "cell_type": "markdown",
   "id": "2b98f3ae",
   "metadata": {},
   "source": [
    "## 2. Feature Selection"
   ]
  },
  {
   "cell_type": "code",
   "execution_count": 3,
   "id": "f7519b8e",
   "metadata": {},
   "outputs": [],
   "source": [
    "water_pumps = pd.read_csv('cleaned_water_pumps_data.csv')"
   ]
  },
  {
   "cell_type": "code",
   "execution_count": 4,
   "id": "40ea794d",
   "metadata": {},
   "outputs": [],
   "source": [
    "# drop unnecessary column\n",
    "water_pumps.drop(['Unnamed: 0'],axis=1, inplace=True)"
   ]
  },
  {
   "cell_type": "code",
   "execution_count": 5,
   "id": "4d0b0c67",
   "metadata": {},
   "outputs": [],
   "source": [
    "# creating a correlation matrix\n",
    "water_pumps_correlation = water_pumps.corr()"
   ]
  },
  {
   "cell_type": "code",
   "execution_count": 6,
   "id": "37966ae6",
   "metadata": {},
   "outputs": [
    {
     "data": {
      "text/plain": [
       "<AxesSubplot:>"
      ]
     },
     "execution_count": 6,
     "metadata": {},
     "output_type": "execute_result"
    },
    {
     "data": {
      "image/png": "[encoded data removed]",
      "text/plain": [
       "<Figure size 864x720 with 2 Axes>"
      ]
     },
     "metadata": {},
     "output_type": "display_data"
    }
   ],
   "source": [
    "f, ax = plt.subplots(figsize=(12,10)) \n",
    "sns.heatmap(water_pumps_correlation, vmax = .8, square=True)"
   ]
  },
  {
   "cell_type": "code",
   "execution_count": 7,
   "id": "81a496ab",
   "metadata": {},
   "outputs": [],
   "source": [
    "# Using a Random Forest algorithm to evaluate feature importance\n",
    "from sklearn.ensemble import RandomForestRegressor"
   ]
  },
  {
   "cell_type": "code",
   "execution_count": 8,
   "id": "31cb59d1",
   "metadata": {},
   "outputs": [],
   "source": [
    "X = water_pumps[water_pumps_correlation.columns[:-1]]"
   ]
  },
  {
   "cell_type": "code",
   "execution_count": 9,
   "id": "4d897932",
   "metadata": {},
   "outputs": [],
   "source": [
    "y = water_pumps['status_group'].values"
   ]
  },
  {
   "cell_type": "code",
   "execution_count": 10,
   "id": "ba8e3780",
   "metadata": {},
   "outputs": [],
   "source": [
    "model = RandomForestRegressor()"
   ]
  },
  {
   "cell_type": "code",
   "execution_count": 11,
   "id": "fe0be95c",
   "metadata": {},
   "outputs": [
    {
     "data": {
      "text/plain": [
       "RandomForestRegressor()"
      ]
     },
     "execution_count": 11,
     "metadata": {},
     "output_type": "execute_result"
    }
   ],
   "source": [
    "model.fit(X,y)"
   ]
  },
  {
   "cell_type": "code",
   "execution_count": 12,
   "id": "d9ec58fe",
   "metadata": {},
   "outputs": [
    {
     "data": {
      "text/plain": [
       "[('subvillage', 0.3361859303086862),\n",
       " ('quantity', 0.11672317259668392),\n",
       " ('latitude', 0.0685117723999965),\n",
       " ('ward', 0.06850453599132138),\n",
       " ('longitude', 0.06757480341877992),\n",
       " ('waterpoint_type', 0.05483376689316464),\n",
       " ('installer', 0.04721672077314606),\n",
       " ('gps_height', 0.0390180839789106),\n",
       " ('funder', 0.03868614800530479),\n",
       " ('population', 0.02854207990795401),\n",
       " ('construction_year', 0.02168590218516562),\n",
       " ('extraction_type_class', 0.01702697898403213),\n",
       " ('lga', 0.016979979545332185),\n",
       " ('payment_type', 0.01312035940544055),\n",
       " ('scheme_management', 0.012399708778933939),\n",
       " ('amount_tsh', 0.00884378267533018),\n",
       " ('district_code', 0.008646725828533954),\n",
       " ('region', 0.0074973810567051285),\n",
       " ('region_code', 0.006842413517446228),\n",
       " ('quality_group', 0.006616219997699703),\n",
       " ('basin', 0.006218299479299625),\n",
       " ('permit', 0.004299006735752552),\n",
       " ('source_class', 0.004026227536380077)]"
      ]
     },
     "execution_count": 12,
     "metadata": {},
     "output_type": "execute_result"
    }
   ],
   "source": [
    "# displaying a sorted list of features and their importance\n",
    "importance_list = list(zip(X.columns, model.feature_importances_))\n",
    "sorted_importance = sorted(importance_list, key=lambda x: x[1], reverse=True)\n",
    "sorted_importance"
   ]
  },
  {
   "cell_type": "code",
   "execution_count": 13,
   "id": "9be66cc8",
   "metadata": {},
   "outputs": [],
   "source": [
    "# display feature importance as a percentage\n",
    "max_feature_len = len(max(X.columns, key=len))"
   ]
  },
  {
   "cell_type": "code",
   "execution_count": 14,
   "id": "b9b6de83",
   "metadata": {},
   "outputs": [
    {
     "name": "stdout",
     "output_type": "stream",
     "text": [
      "subvillage: ........... 33.62%\n",
      "quantity: ............. 11.67%\n",
      "latitude: ............. 6.85%\n",
      "ward: ................. 6.85%\n",
      "longitude: ............ 6.76%\n",
      "waterpoint_type: ...... 5.48%\n",
      "installer: ............ 4.72%\n",
      "gps_height: ........... 3.90%\n",
      "funder: ............... 3.87%\n",
      "population: ........... 2.85%\n",
      "construction_year: .... 2.17%\n",
      "extraction_type_class:  1.70%\n",
      "lga: .................. 1.70%\n",
      "payment_type: ......... 1.31%\n",
      "scheme_management: .... 1.24%\n",
      "amount_tsh: ........... 0.88%\n",
      "district_code: ........ 0.86%\n",
      "region: ............... 0.75%\n",
      "region_code: .......... 0.68%\n",
      "quality_group: ........ 0.66%\n",
      "basin: ................ 0.62%\n",
      "permit: ............... 0.43%\n",
      "source_class: ......... 0.40%\n"
     ]
    }
   ],
   "source": [
    "for feature, rank in sorted_importance:\n",
    "    dots = max_feature_len - len(feature)\n",
    "    print(f'{feature}: {\".\"*dots} {rank*100:.2f}%')"
   ]
  },
  {
   "cell_type": "markdown",
   "id": "79c6735f",
   "metadata": {},
   "source": [
    "Summary: Based on a correlation matrix and a Random Forest algorithm, the features that are correlated to the functionality of a water pump are 'subvillage', 'quantity', 'ward', 'construction_year', and 'gps_height'."
   ]
  },
  {
   "cell_type": "markdown",
   "id": "197aa894",
   "metadata": {},
   "source": [
    "# Supervised Machine Learning Models"
   ]
  },
  {
   "cell_type": "code",
   "execution_count": 4,
   "id": "5a6349c5",
   "metadata": {},
   "outputs": [],
   "source": [
    "# sklearn\n",
    "from sklearn.model_selection import train_test_split\n",
    "from sklearn.decomposition import PCA\n",
    "from sklearn.model_selection import KFold\n",
    "from sklearn.model_selection import cross_val_score\n",
    "from sklearn.metrics import accuracy_score"
   ]
  },
  {
   "cell_type": "code",
   "execution_count": 5,
   "id": "4327f4be",
   "metadata": {},
   "outputs": [],
   "source": [
    "from sklearn.neighbors import KNeighborsClassifier\n",
    "from sklearn.ensemble import RandomForestClassifier\n",
    "from sklearn.tree import DecisionTreeClassifier\n",
    "from sklearn.ensemble import GradientBoostingClassifier\n",
    "from sklearn.naive_bayes import GaussianNB\n",
    "from sklearn.linear_model import LogisticRegression\n",
    "from sklearn.discriminant_analysis import LinearDiscriminantAnalysis"
   ]
  },
  {
   "cell_type": "code",
   "execution_count": 6,
   "id": "32216ec4",
   "metadata": {},
   "outputs": [],
   "source": [
    "water_pumps.drop(['Unnamed: 0'],axis=1, inplace=True)"
   ]
  },
  {
   "cell_type": "code",
   "execution_count": 7,
   "id": "4ea74c83",
   "metadata": {},
   "outputs": [],
   "source": [
    "# new data frame based on feature selection\n",
    "water_pumps = water_pumps.loc[:, ['subvillage','quantity','ward','extraction_type_class', 'payment_type', 'waterpoint_type',\n",
    "                             'lga', 'installer', 'funder', 'construction_year', 'gps_height', 'amount_tsh', 'status_group']]"
   ]
  },
  {
   "cell_type": "code",
   "execution_count": 8,
   "id": "e2328b67",
   "metadata": {},
   "outputs": [
    {
     "data": {
      "text/html": [
       "<div>\n",
       "<style scoped>\n",
       "    .dataframe tbody tr th:only-of-type {\n",
       "        vertical-align: middle;\n",
       "    }\n",
       "\n",
       "    .dataframe tbody tr th {\n",
       "        vertical-align: top;\n",
       "    }\n",
       "\n",
       "    .dataframe thead th {\n",
       "        text-align: right;\n",
       "    }\n",
       "</style>\n",
       "<table border=\"1\" class=\"dataframe\">\n",
       "  <thead>\n",
       "    <tr style=\"text-align: right;\">\n",
       "      <th></th>\n",
       "      <th>subvillage</th>\n",
       "      <th>quantity</th>\n",
       "      <th>ward</th>\n",
       "      <th>extraction_type_class</th>\n",
       "      <th>payment_type</th>\n",
       "      <th>waterpoint_type</th>\n",
       "      <th>lga</th>\n",
       "      <th>installer</th>\n",
       "      <th>funder</th>\n",
       "      <th>construction_year</th>\n",
       "      <th>gps_height</th>\n",
       "      <th>amount_tsh</th>\n",
       "      <th>status_group</th>\n",
       "    </tr>\n",
       "  </thead>\n",
       "  <tbody>\n",
       "    <tr>\n",
       "      <th>0</th>\n",
       "      <td>-0.991365</td>\n",
       "      <td>-0.545551</td>\n",
       "      <td>-0.189045</td>\n",
       "      <td>-0.459679</td>\n",
       "      <td>-1.774777</td>\n",
       "      <td>-0.496106</td>\n",
       "      <td>-1.342403</td>\n",
       "      <td>-0.355126</td>\n",
       "      <td>-1.470057</td>\n",
       "      <td>0.733857</td>\n",
       "      <td>1.041252</td>\n",
       "      <td>1.895665</td>\n",
       "      <td>-0.885633</td>\n",
       "    </tr>\n",
       "    <tr>\n",
       "      <th>1</th>\n",
       "      <td>-1.605315</td>\n",
       "      <td>0.041402</td>\n",
       "      <td>-0.199327</td>\n",
       "      <td>-0.459679</td>\n",
       "      <td>0.797217</td>\n",
       "      <td>-0.496106</td>\n",
       "      <td>-0.206499</td>\n",
       "      <td>-1.413681</td>\n",
       "      <td>-1.299882</td>\n",
       "      <td>0.745416</td>\n",
       "      <td>1.054237</td>\n",
       "      <td>-0.105970</td>\n",
       "      <td>-0.885633</td>\n",
       "    </tr>\n",
       "    <tr>\n",
       "      <th>2</th>\n",
       "      <td>0.371611</td>\n",
       "      <td>-0.545551</td>\n",
       "      <td>-1.277160</td>\n",
       "      <td>-0.459679</td>\n",
       "      <td>-1.039680</td>\n",
       "      <td>0.972290</td>\n",
       "      <td>-0.063967</td>\n",
       "      <td>-0.771461</td>\n",
       "      <td>-2.123462</td>\n",
       "      <td>0.744365</td>\n",
       "      <td>0.025541</td>\n",
       "      <td>-0.097630</td>\n",
       "      <td>-0.885633</td>\n",
       "    </tr>\n",
       "    <tr>\n",
       "      <th>3</th>\n",
       "      <td>0.489515</td>\n",
       "      <td>2.757775</td>\n",
       "      <td>1.679871</td>\n",
       "      <td>0.132115</td>\n",
       "      <td>0.797217</td>\n",
       "      <td>0.972290</td>\n",
       "      <td>2.044001</td>\n",
       "      <td>0.110917</td>\n",
       "      <td>-0.215322</td>\n",
       "      <td>0.720196</td>\n",
       "      <td>-0.584751</td>\n",
       "      <td>-0.105970</td>\n",
       "      <td>1.220105</td>\n",
       "    </tr>\n",
       "    <tr>\n",
       "      <th>4</th>\n",
       "      <td>-1.281355</td>\n",
       "      <td>-0.230078</td>\n",
       "      <td>-1.084474</td>\n",
       "      <td>-0.459679</td>\n",
       "      <td>0.797217</td>\n",
       "      <td>-0.496106</td>\n",
       "      <td>0.129908</td>\n",
       "      <td>-0.004231</td>\n",
       "      <td>-0.018088</td>\n",
       "      <td>-1.366788</td>\n",
       "      <td>-0.964200</td>\n",
       "      <td>-0.105970</td>\n",
       "      <td>-0.885633</td>\n",
       "    </tr>\n",
       "    <tr>\n",
       "      <th>5</th>\n",
       "      <td>0.014484</td>\n",
       "      <td>-0.545551</td>\n",
       "      <td>-1.097141</td>\n",
       "      <td>0.132115</td>\n",
       "      <td>-1.039680</td>\n",
       "      <td>0.972290</td>\n",
       "      <td>-1.295714</td>\n",
       "      <td>-0.062816</td>\n",
       "      <td>-1.289381</td>\n",
       "      <td>0.744365</td>\n",
       "      <td>-0.964200</td>\n",
       "      <td>-0.099298</td>\n",
       "      <td>-0.885633</td>\n",
       "    </tr>\n",
       "    <tr>\n",
       "      <th>6</th>\n",
       "      <td>0.867469</td>\n",
       "      <td>-0.545551</td>\n",
       "      <td>-0.184318</td>\n",
       "      <td>-0.531761</td>\n",
       "      <td>0.797217</td>\n",
       "      <td>-0.412096</td>\n",
       "      <td>0.036133</td>\n",
       "      <td>-0.829296</td>\n",
       "      <td>-0.112349</td>\n",
       "      <td>-1.366788</td>\n",
       "      <td>-0.964200</td>\n",
       "      <td>-0.105970</td>\n",
       "      <td>1.220105</td>\n",
       "    </tr>\n",
       "    <tr>\n",
       "      <th>7</th>\n",
       "      <td>0.259181</td>\n",
       "      <td>-0.545551</td>\n",
       "      <td>0.799500</td>\n",
       "      <td>-0.531761</td>\n",
       "      <td>1.033461</td>\n",
       "      <td>-0.412096</td>\n",
       "      <td>0.160304</td>\n",
       "      <td>-0.062816</td>\n",
       "      <td>-0.277666</td>\n",
       "      <td>-1.366788</td>\n",
       "      <td>-0.964200</td>\n",
       "      <td>-0.105970</td>\n",
       "      <td>1.220105</td>\n",
       "    </tr>\n",
       "    <tr>\n",
       "      <th>8</th>\n",
       "      <td>1.202200</td>\n",
       "      <td>-0.230078</td>\n",
       "      <td>1.279530</td>\n",
       "      <td>-0.531761</td>\n",
       "      <td>0.797217</td>\n",
       "      <td>-0.412096</td>\n",
       "      <td>1.505807</td>\n",
       "      <td>0.131215</td>\n",
       "      <td>-1.005363</td>\n",
       "      <td>-1.366788</td>\n",
       "      <td>-0.964200</td>\n",
       "      <td>-0.105970</td>\n",
       "      <td>1.220105</td>\n",
       "    </tr>\n",
       "    <tr>\n",
       "      <th>9</th>\n",
       "      <td>0.014484</td>\n",
       "      <td>-0.545551</td>\n",
       "      <td>-0.415054</td>\n",
       "      <td>-0.531761</td>\n",
       "      <td>0.797217</td>\n",
       "      <td>-0.412096</td>\n",
       "      <td>0.129908</td>\n",
       "      <td>-0.004231</td>\n",
       "      <td>-0.163808</td>\n",
       "      <td>-1.366788</td>\n",
       "      <td>-0.964200</td>\n",
       "      <td>-0.105970</td>\n",
       "      <td>-0.885633</td>\n",
       "    </tr>\n",
       "  </tbody>\n",
       "</table>\n",
       "</div>"
      ],
      "text/plain": [
       "   subvillage  quantity      ward  extraction_type_class  payment_type  \\\n",
       "0   -0.991365 -0.545551 -0.189045              -0.459679     -1.774777   \n",
       "1   -1.605315  0.041402 -0.199327              -0.459679      0.797217   \n",
       "2    0.371611 -0.545551 -1.277160              -0.459679     -1.039680   \n",
       "3    0.489515  2.757775  1.679871               0.132115      0.797217   \n",
       "4   -1.281355 -0.230078 -1.084474              -0.459679      0.797217   \n",
       "5    0.014484 -0.545551 -1.097141               0.132115     -1.039680   \n",
       "6    0.867469 -0.545551 -0.184318              -0.531761      0.797217   \n",
       "7    0.259181 -0.545551  0.799500              -0.531761      1.033461   \n",
       "8    1.202200 -0.230078  1.279530              -0.531761      0.797217   \n",
       "9    0.014484 -0.545551 -0.415054              -0.531761      0.797217   \n",
       "\n",
       "   waterpoint_type       lga  installer    funder  construction_year  \\\n",
       "0        -0.496106 -1.342403  -0.355126 -1.470057           0.733857   \n",
       "1        -0.496106 -0.206499  -1.413681 -1.299882           0.745416   \n",
       "2         0.972290 -0.063967  -0.771461 -2.123462           0.744365   \n",
       "3         0.972290  2.044001   0.110917 -0.215322           0.720196   \n",
       "4        -0.496106  0.129908  -0.004231 -0.018088          -1.366788   \n",
       "5         0.972290 -1.295714  -0.062816 -1.289381           0.744365   \n",
       "6        -0.412096  0.036133  -0.829296 -0.112349          -1.366788   \n",
       "7        -0.412096  0.160304  -0.062816 -0.277666          -1.366788   \n",
       "8        -0.412096  1.505807   0.131215 -1.005363          -1.366788   \n",
       "9        -0.412096  0.129908  -0.004231 -0.163808          -1.366788   \n",
       "\n",
       "   gps_height  amount_tsh  status_group  \n",
       "0    1.041252    1.895665     -0.885633  \n",
       "1    1.054237   -0.105970     -0.885633  \n",
       "2    0.025541   -0.097630     -0.885633  \n",
       "3   -0.584751   -0.105970      1.220105  \n",
       "4   -0.964200   -0.105970     -0.885633  \n",
       "5   -0.964200   -0.099298     -0.885633  \n",
       "6   -0.964200   -0.105970      1.220105  \n",
       "7   -0.964200   -0.105970      1.220105  \n",
       "8   -0.964200   -0.105970      1.220105  \n",
       "9   -0.964200   -0.105970     -0.885633  "
      ]
     },
     "execution_count": 8,
     "metadata": {},
     "output_type": "execute_result"
    }
   ],
   "source": [
    "water_pumps.head(10)"
   ]
  },
  {
   "cell_type": "code",
   "execution_count": 9,
   "id": "083b6952",
   "metadata": {},
   "outputs": [
    {
     "data": {
      "text/html": [
       "<div>\n",
       "<style scoped>\n",
       "    .dataframe tbody tr th:only-of-type {\n",
       "        vertical-align: middle;\n",
       "    }\n",
       "\n",
       "    .dataframe tbody tr th {\n",
       "        vertical-align: top;\n",
       "    }\n",
       "\n",
       "    .dataframe thead th {\n",
       "        text-align: right;\n",
       "    }\n",
       "</style>\n",
       "<table border=\"1\" class=\"dataframe\">\n",
       "  <thead>\n",
       "    <tr style=\"text-align: right;\">\n",
       "      <th></th>\n",
       "      <th>id</th>\n",
       "      <th>status_group</th>\n",
       "    </tr>\n",
       "  </thead>\n",
       "  <tbody>\n",
       "    <tr>\n",
       "      <th>0</th>\n",
       "      <td>69572</td>\n",
       "      <td>functional</td>\n",
       "    </tr>\n",
       "    <tr>\n",
       "      <th>1</th>\n",
       "      <td>8776</td>\n",
       "      <td>functional</td>\n",
       "    </tr>\n",
       "    <tr>\n",
       "      <th>2</th>\n",
       "      <td>34310</td>\n",
       "      <td>functional</td>\n",
       "    </tr>\n",
       "    <tr>\n",
       "      <th>3</th>\n",
       "      <td>67743</td>\n",
       "      <td>non functional</td>\n",
       "    </tr>\n",
       "    <tr>\n",
       "      <th>4</th>\n",
       "      <td>19728</td>\n",
       "      <td>functional</td>\n",
       "    </tr>\n",
       "    <tr>\n",
       "      <th>5</th>\n",
       "      <td>9944</td>\n",
       "      <td>functional</td>\n",
       "    </tr>\n",
       "    <tr>\n",
       "      <th>6</th>\n",
       "      <td>19816</td>\n",
       "      <td>non functional</td>\n",
       "    </tr>\n",
       "    <tr>\n",
       "      <th>7</th>\n",
       "      <td>54551</td>\n",
       "      <td>non functional</td>\n",
       "    </tr>\n",
       "    <tr>\n",
       "      <th>8</th>\n",
       "      <td>53934</td>\n",
       "      <td>non functional</td>\n",
       "    </tr>\n",
       "    <tr>\n",
       "      <th>9</th>\n",
       "      <td>46144</td>\n",
       "      <td>functional</td>\n",
       "    </tr>\n",
       "  </tbody>\n",
       "</table>\n",
       "</div>"
      ],
      "text/plain": [
       "      id    status_group\n",
       "0  69572      functional\n",
       "1   8776      functional\n",
       "2  34310      functional\n",
       "3  67743  non functional\n",
       "4  19728      functional\n",
       "5   9944      functional\n",
       "6  19816  non functional\n",
       "7  54551  non functional\n",
       "8  53934  non functional\n",
       "9  46144      functional"
      ]
     },
     "execution_count": 9,
     "metadata": {},
     "output_type": "execute_result"
    }
   ],
   "source": [
    "pumps.head(10)"
   ]
  },
  {
   "cell_type": "code",
   "execution_count": 8,
   "id": "2288aaf2",
   "metadata": {},
   "outputs": [],
   "source": [
    "water_pumps['status_group'] = pumps['status_group']"
   ]
  },
  {
   "cell_type": "code",
   "execution_count": 11,
   "id": "1bfefa2c",
   "metadata": {},
   "outputs": [
    {
     "data": {
      "text/html": [
       "<div>\n",
       "<style scoped>\n",
       "    .dataframe tbody tr th:only-of-type {\n",
       "        vertical-align: middle;\n",
       "    }\n",
       "\n",
       "    .dataframe tbody tr th {\n",
       "        vertical-align: top;\n",
       "    }\n",
       "\n",
       "    .dataframe thead th {\n",
       "        text-align: right;\n",
       "    }\n",
       "</style>\n",
       "<table border=\"1\" class=\"dataframe\">\n",
       "  <thead>\n",
       "    <tr style=\"text-align: right;\">\n",
       "      <th></th>\n",
       "      <th>subvillage</th>\n",
       "      <th>quantity</th>\n",
       "      <th>ward</th>\n",
       "      <th>extraction_type_class</th>\n",
       "      <th>payment_type</th>\n",
       "      <th>waterpoint_type</th>\n",
       "      <th>lga</th>\n",
       "      <th>installer</th>\n",
       "      <th>funder</th>\n",
       "      <th>construction_year</th>\n",
       "      <th>gps_height</th>\n",
       "      <th>amount_tsh</th>\n",
       "      <th>status_group</th>\n",
       "    </tr>\n",
       "  </thead>\n",
       "  <tbody>\n",
       "    <tr>\n",
       "      <th>0</th>\n",
       "      <td>-0.991365</td>\n",
       "      <td>-0.545551</td>\n",
       "      <td>-0.189045</td>\n",
       "      <td>-0.459679</td>\n",
       "      <td>-1.774777</td>\n",
       "      <td>-0.496106</td>\n",
       "      <td>-1.342403</td>\n",
       "      <td>-0.355126</td>\n",
       "      <td>-1.470057</td>\n",
       "      <td>0.733857</td>\n",
       "      <td>1.041252</td>\n",
       "      <td>1.895665</td>\n",
       "      <td>functional</td>\n",
       "    </tr>\n",
       "    <tr>\n",
       "      <th>1</th>\n",
       "      <td>-1.605315</td>\n",
       "      <td>0.041402</td>\n",
       "      <td>-0.199327</td>\n",
       "      <td>-0.459679</td>\n",
       "      <td>0.797217</td>\n",
       "      <td>-0.496106</td>\n",
       "      <td>-0.206499</td>\n",
       "      <td>-1.413681</td>\n",
       "      <td>-1.299882</td>\n",
       "      <td>0.745416</td>\n",
       "      <td>1.054237</td>\n",
       "      <td>-0.105970</td>\n",
       "      <td>functional</td>\n",
       "    </tr>\n",
       "    <tr>\n",
       "      <th>2</th>\n",
       "      <td>0.371611</td>\n",
       "      <td>-0.545551</td>\n",
       "      <td>-1.277160</td>\n",
       "      <td>-0.459679</td>\n",
       "      <td>-1.039680</td>\n",
       "      <td>0.972290</td>\n",
       "      <td>-0.063967</td>\n",
       "      <td>-0.771461</td>\n",
       "      <td>-2.123462</td>\n",
       "      <td>0.744365</td>\n",
       "      <td>0.025541</td>\n",
       "      <td>-0.097630</td>\n",
       "      <td>functional</td>\n",
       "    </tr>\n",
       "    <tr>\n",
       "      <th>3</th>\n",
       "      <td>0.489515</td>\n",
       "      <td>2.757775</td>\n",
       "      <td>1.679871</td>\n",
       "      <td>0.132115</td>\n",
       "      <td>0.797217</td>\n",
       "      <td>0.972290</td>\n",
       "      <td>2.044001</td>\n",
       "      <td>0.110917</td>\n",
       "      <td>-0.215322</td>\n",
       "      <td>0.720196</td>\n",
       "      <td>-0.584751</td>\n",
       "      <td>-0.105970</td>\n",
       "      <td>non functional</td>\n",
       "    </tr>\n",
       "    <tr>\n",
       "      <th>4</th>\n",
       "      <td>-1.281355</td>\n",
       "      <td>-0.230078</td>\n",
       "      <td>-1.084474</td>\n",
       "      <td>-0.459679</td>\n",
       "      <td>0.797217</td>\n",
       "      <td>-0.496106</td>\n",
       "      <td>0.129908</td>\n",
       "      <td>-0.004231</td>\n",
       "      <td>-0.018088</td>\n",
       "      <td>-1.366788</td>\n",
       "      <td>-0.964200</td>\n",
       "      <td>-0.105970</td>\n",
       "      <td>functional</td>\n",
       "    </tr>\n",
       "    <tr>\n",
       "      <th>5</th>\n",
       "      <td>0.014484</td>\n",
       "      <td>-0.545551</td>\n",
       "      <td>-1.097141</td>\n",
       "      <td>0.132115</td>\n",
       "      <td>-1.039680</td>\n",
       "      <td>0.972290</td>\n",
       "      <td>-1.295714</td>\n",
       "      <td>-0.062816</td>\n",
       "      <td>-1.289381</td>\n",
       "      <td>0.744365</td>\n",
       "      <td>-0.964200</td>\n",
       "      <td>-0.099298</td>\n",
       "      <td>functional</td>\n",
       "    </tr>\n",
       "    <tr>\n",
       "      <th>6</th>\n",
       "      <td>0.867469</td>\n",
       "      <td>-0.545551</td>\n",
       "      <td>-0.184318</td>\n",
       "      <td>-0.531761</td>\n",
       "      <td>0.797217</td>\n",
       "      <td>-0.412096</td>\n",
       "      <td>0.036133</td>\n",
       "      <td>-0.829296</td>\n",
       "      <td>-0.112349</td>\n",
       "      <td>-1.366788</td>\n",
       "      <td>-0.964200</td>\n",
       "      <td>-0.105970</td>\n",
       "      <td>non functional</td>\n",
       "    </tr>\n",
       "    <tr>\n",
       "      <th>7</th>\n",
       "      <td>0.259181</td>\n",
       "      <td>-0.545551</td>\n",
       "      <td>0.799500</td>\n",
       "      <td>-0.531761</td>\n",
       "      <td>1.033461</td>\n",
       "      <td>-0.412096</td>\n",
       "      <td>0.160304</td>\n",
       "      <td>-0.062816</td>\n",
       "      <td>-0.277666</td>\n",
       "      <td>-1.366788</td>\n",
       "      <td>-0.964200</td>\n",
       "      <td>-0.105970</td>\n",
       "      <td>non functional</td>\n",
       "    </tr>\n",
       "    <tr>\n",
       "      <th>8</th>\n",
       "      <td>1.202200</td>\n",
       "      <td>-0.230078</td>\n",
       "      <td>1.279530</td>\n",
       "      <td>-0.531761</td>\n",
       "      <td>0.797217</td>\n",
       "      <td>-0.412096</td>\n",
       "      <td>1.505807</td>\n",
       "      <td>0.131215</td>\n",
       "      <td>-1.005363</td>\n",
       "      <td>-1.366788</td>\n",
       "      <td>-0.964200</td>\n",
       "      <td>-0.105970</td>\n",
       "      <td>non functional</td>\n",
       "    </tr>\n",
       "    <tr>\n",
       "      <th>9</th>\n",
       "      <td>0.014484</td>\n",
       "      <td>-0.545551</td>\n",
       "      <td>-0.415054</td>\n",
       "      <td>-0.531761</td>\n",
       "      <td>0.797217</td>\n",
       "      <td>-0.412096</td>\n",
       "      <td>0.129908</td>\n",
       "      <td>-0.004231</td>\n",
       "      <td>-0.163808</td>\n",
       "      <td>-1.366788</td>\n",
       "      <td>-0.964200</td>\n",
       "      <td>-0.105970</td>\n",
       "      <td>functional</td>\n",
       "    </tr>\n",
       "  </tbody>\n",
       "</table>\n",
       "</div>"
      ],
      "text/plain": [
       "   subvillage  quantity      ward  extraction_type_class  payment_type  \\\n",
       "0   -0.991365 -0.545551 -0.189045              -0.459679     -1.774777   \n",
       "1   -1.605315  0.041402 -0.199327              -0.459679      0.797217   \n",
       "2    0.371611 -0.545551 -1.277160              -0.459679     -1.039680   \n",
       "3    0.489515  2.757775  1.679871               0.132115      0.797217   \n",
       "4   -1.281355 -0.230078 -1.084474              -0.459679      0.797217   \n",
       "5    0.014484 -0.545551 -1.097141               0.132115     -1.039680   \n",
       "6    0.867469 -0.545551 -0.184318              -0.531761      0.797217   \n",
       "7    0.259181 -0.545551  0.799500              -0.531761      1.033461   \n",
       "8    1.202200 -0.230078  1.279530              -0.531761      0.797217   \n",
       "9    0.014484 -0.545551 -0.415054              -0.531761      0.797217   \n",
       "\n",
       "   waterpoint_type       lga  installer    funder  construction_year  \\\n",
       "0        -0.496106 -1.342403  -0.355126 -1.470057           0.733857   \n",
       "1        -0.496106 -0.206499  -1.413681 -1.299882           0.745416   \n",
       "2         0.972290 -0.063967  -0.771461 -2.123462           0.744365   \n",
       "3         0.972290  2.044001   0.110917 -0.215322           0.720196   \n",
       "4        -0.496106  0.129908  -0.004231 -0.018088          -1.366788   \n",
       "5         0.972290 -1.295714  -0.062816 -1.289381           0.744365   \n",
       "6        -0.412096  0.036133  -0.829296 -0.112349          -1.366788   \n",
       "7        -0.412096  0.160304  -0.062816 -0.277666          -1.366788   \n",
       "8        -0.412096  1.505807   0.131215 -1.005363          -1.366788   \n",
       "9        -0.412096  0.129908  -0.004231 -0.163808          -1.366788   \n",
       "\n",
       "   gps_height  amount_tsh    status_group  \n",
       "0    1.041252    1.895665      functional  \n",
       "1    1.054237   -0.105970      functional  \n",
       "2    0.025541   -0.097630      functional  \n",
       "3   -0.584751   -0.105970  non functional  \n",
       "4   -0.964200   -0.105970      functional  \n",
       "5   -0.964200   -0.099298      functional  \n",
       "6   -0.964200   -0.105970  non functional  \n",
       "7   -0.964200   -0.105970  non functional  \n",
       "8   -0.964200   -0.105970  non functional  \n",
       "9   -0.964200   -0.105970      functional  "
      ]
     },
     "execution_count": 11,
     "metadata": {},
     "output_type": "execute_result"
    }
   ],
   "source": [
    "water_pumps.head(10)"
   ]
  },
  {
   "cell_type": "code",
   "execution_count": 9,
   "id": "4519bfbb",
   "metadata": {},
   "outputs": [],
   "source": [
    "water_pumps['status_group'] = water_pumps['status_group'].replace({'functional': 0, 'functional needs repair': 1, 'non functional': 2})"
   ]
  },
  {
   "cell_type": "code",
   "execution_count": 10,
   "id": "dc709661",
   "metadata": {},
   "outputs": [
    {
     "name": "stdout",
     "output_type": "stream",
     "text": [
      "<class 'pandas.core.frame.DataFrame'>\n",
      "RangeIndex: 59400 entries, 0 to 59399\n",
      "Data columns (total 13 columns):\n",
      " #   Column                 Non-Null Count  Dtype  \n",
      "---  ------                 --------------  -----  \n",
      " 0   subvillage             59400 non-null  float64\n",
      " 1   quantity               59400 non-null  float64\n",
      " 2   ward                   59400 non-null  float64\n",
      " 3   extraction_type_class  59400 non-null  float64\n",
      " 4   payment_type           59400 non-null  float64\n",
      " 5   waterpoint_type        59400 non-null  float64\n",
      " 6   lga                    59400 non-null  float64\n",
      " 7   installer              59400 non-null  float64\n",
      " 8   funder                 59400 non-null  float64\n",
      " 9   construction_year      59400 non-null  float64\n",
      " 10  gps_height             59400 non-null  float64\n",
      " 11  amount_tsh             59400 non-null  float64\n",
      " 12  status_group           59400 non-null  int64  \n",
      "dtypes: float64(12), int64(1)\n",
      "memory usage: 5.9 MB\n"
     ]
    }
   ],
   "source": [
    "water_pumps.info()"
   ]
  },
  {
   "cell_type": "code",
   "execution_count": 11,
   "id": "625c3514",
   "metadata": {},
   "outputs": [],
   "source": [
    "array = water_pumps.values"
   ]
  },
  {
   "cell_type": "code",
   "execution_count": 12,
   "id": "45ca3cf3",
   "metadata": {},
   "outputs": [],
   "source": [
    "X = array[:, 0:12]\n",
    "y = array[:, 12]"
   ]
  },
  {
   "cell_type": "code",
   "execution_count": 17,
   "id": "2511a1cc",
   "metadata": {},
   "outputs": [
    {
     "data": {
      "text/plain": [
       "array([0., 0., 0., ..., 0., 0., 0.])"
      ]
     },
     "execution_count": 17,
     "metadata": {},
     "output_type": "execute_result"
    }
   ],
   "source": [
    "y"
   ]
  },
  {
   "cell_type": "code",
   "execution_count": 13,
   "id": "71777e7e",
   "metadata": {},
   "outputs": [],
   "source": [
    "X_train, X_test, y_train, y_test = train_test_split(X, y, test_size=0.2, random_state=42)"
   ]
  },
  {
   "cell_type": "markdown",
   "id": "61e69a7d",
   "metadata": {},
   "source": [
    "## Linear and Non-Linear Classifiers"
   ]
  },
  {
   "cell_type": "code",
   "execution_count": 20,
   "id": "e5848dcb",
   "metadata": {},
   "outputs": [],
   "source": [
    "models = []\n",
    "models.append(('LR', LogisticRegression(solver='liblinear')))\n",
    "models.append(('LDA', LinearDiscriminantAnalysis()))\n",
    "models.append(('KNN', KNeighborsClassifier()))\n",
    "models.append(('CART', DecisionTreeClassifier()))\n",
    "models.append(('NB', GaussianNB()))"
   ]
  },
  {
   "cell_type": "code",
   "execution_count": 21,
   "id": "90894f7b",
   "metadata": {},
   "outputs": [],
   "source": [
    "num_folds = 5\n",
    "seed = 42\n",
    "scoring = 'accuracy'"
   ]
  },
  {
   "cell_type": "code",
   "execution_count": 22,
   "id": "8a11d747",
   "metadata": {},
   "outputs": [
    {
     "name": "stdout",
     "output_type": "stream",
     "text": [
      "LR: 0.784428 (0.003789)\n",
      "LDA: 0.783439 (0.002871)\n",
      "KNN: 0.795896 (0.002553)\n",
      "CART: 0.762584 (0.001854)\n",
      "NB: 0.741435 (0.012132)\n"
     ]
    }
   ],
   "source": [
    "results = []\n",
    "names = []\n",
    "for name, model in models:\n",
    "    kfold = KFold(n_splits=num_folds, random_state=seed, shuffle=True)\n",
    "    cv_results = cross_val_score(model, X_train, y_train, cv=kfold, scoring=scoring)\n",
    "    results.append(cv_results)\n",
    "    names.append(name)\n",
    "    msg = \"%s: %f (%f)\" % (name, cv_results.mean(), cv_results.std())\n",
    "    print(msg)"
   ]
  },
  {
   "cell_type": "markdown",
   "id": "c94c3d82",
   "metadata": {},
   "source": [
    "Summary: A KNN Classifier model yielded the highest accuracy score out of a mixture of linear and non-linear models, including Linear Regression and Naive Bayes. Using K-Fold Cross Validation with five folds, a KNN Classifier had an accuracy score of .795896. The KNN Classifier will be improved by calculating the optimal k value."
   ]
  },
  {
   "cell_type": "markdown",
   "id": "0a63b875",
   "metadata": {},
   "source": [
    "## Ensemble Methods"
   ]
  },
  {
   "cell_type": "code",
   "execution_count": 23,
   "id": "5dcb51d9",
   "metadata": {},
   "outputs": [],
   "source": [
    "ensembles = []\n",
    "ensembles.append(('GBM', GradientBoostingClassifier()))\n",
    "ensembles.append(('RF', RandomForestClassifier(n_estimators=10)))"
   ]
  },
  {
   "cell_type": "code",
   "execution_count": 24,
   "id": "0c05612a",
   "metadata": {},
   "outputs": [
    {
     "name": "stdout",
     "output_type": "stream",
     "text": [
      "GBM: 0.804461 (0.003448)\n",
      "RF: 0.804588 (0.003967)\n"
     ]
    }
   ],
   "source": [
    "results = []\n",
    "names = []\n",
    "for name, model in ensembles:\n",
    "    kfold = KFold(n_splits=num_folds, random_state=seed, shuffle=True)\n",
    "    cv_results = cross_val_score(model, X_train, y_train, cv=kfold, scoring=scoring)\n",
    "    results.append(cv_results)\n",
    "    names.append(name)\n",
    "    msg = \"%s: %f (%f)\" % (name, cv_results.mean(), cv_results.std())\n",
    "    print(msg)"
   ]
  },
  {
   "cell_type": "markdown",
   "id": "91a70664",
   "metadata": {},
   "source": [
    "Summary: The Ensemble Methods performed better than their linear and non-linear counterparts. In particular, a Random Forest model obtained an accuracy score of .804588. This Random Forest model as well as the KNN Classifier will be optimized in hopes of achieving a higher score. "
   ]
  },
  {
   "cell_type": "markdown",
   "id": "acb9afb6",
   "metadata": {},
   "source": [
    "# Model Optimization"
   ]
  },
  {
   "cell_type": "markdown",
   "id": "a71bc034",
   "metadata": {},
   "source": [
    "## KNN Classifier"
   ]
  },
  {
   "cell_type": "code",
   "execution_count": 19,
   "id": "d79faf2e",
   "metadata": {},
   "outputs": [
    {
     "name": "stdout",
     "output_type": "stream",
     "text": [
      "Evaluating 2 clusters\n",
      "Evaluating 3 clusters\n",
      "Evaluating 4 clusters\n",
      "Evaluating 5 clusters\n",
      "Evaluating 6 clusters\n",
      "Evaluating 7 clusters\n",
      "Evaluating 8 clusters\n",
      "Evaluating 9 clusters\n",
      "Evaluating 10 clusters\n",
      "Evaluating 11 clusters\n",
      "Evaluating 12 clusters\n",
      "Evaluating 13 clusters\n",
      "Evaluating 14 clusters\n",
      "Evaluating 15 clusters\n",
      "Evaluating 16 clusters\n",
      "Evaluating 17 clusters\n",
      "Evaluating 18 clusters\n",
      "Evaluating 19 clusters\n"
     ]
    }
   ],
   "source": [
    "# finding the optimal k-value\n",
    "scores = []\n",
    "for k in range(2, 20):\n",
    "    print(f'Evaluating {k} clusters')\n",
    "    \n",
    "    model = KNeighborsClassifier(n_neighbors=k, n_jobs=-1)\n",
    "    model.fit(X_train, y_train)\n",
    "    scores.append(model.score(X_test, y_test))"
   ]
  },
  {
   "cell_type": "code",
   "execution_count": 20,
   "id": "05c4f770",
   "metadata": {},
   "outputs": [
    {
     "name": "stdout",
     "output_type": "stream",
     "text": [
      "\n",
      "Max accuracy = 80.14309764309763%\n"
     ]
    },
    {
     "data": {
      "image/png": "[encoded data removed]",
      "text/plain": [
       "<Figure size 432x288 with 1 Axes>"
      ]
     },
     "metadata": {},
     "output_type": "display_data"
    }
   ],
   "source": [
    "# display the resutls\n",
    "plt.plot(range(2, 20), scores)\n",
    "plt.scatter(range(2, 20), scores)\n",
    "plt.xticks(range(2, 20))\n",
    "\n",
    "print(f'\\nMax accuracy = {(max(scores)*100)}%')"
   ]
  },
  {
   "cell_type": "markdown",
   "id": "96dd8db5",
   "metadata": {},
   "source": [
    "Summary: The optimal k-value for the KNN Classifier model was found to be equal to 10. Given this k-value, the model had an accuracy score of .8014"
   ]
  },
  {
   "cell_type": "markdown",
   "id": "c4874812",
   "metadata": {},
   "source": [
    "## Random Forest"
   ]
  },
  {
   "cell_type": "code",
   "execution_count": 21,
   "id": "bdda7631",
   "metadata": {},
   "outputs": [],
   "source": [
    "from sklearn.model_selection import GridSearchCV"
   ]
  },
  {
   "cell_type": "code",
   "execution_count": 25,
   "id": "674f74bb",
   "metadata": {},
   "outputs": [],
   "source": [
    "# used to find the optimal number of estimators\n",
    "param_grid = {\n",
    "    'n_estimators': [100, 200, 300]\n",
    "}"
   ]
  },
  {
   "cell_type": "code",
   "execution_count": 24,
   "id": "1dc2b862",
   "metadata": {},
   "outputs": [],
   "source": [
    "random_forest_model = RandomForestClassifier()"
   ]
  },
  {
   "cell_type": "code",
   "execution_count": 26,
   "id": "38324ecd",
   "metadata": {},
   "outputs": [],
   "source": [
    "grid_search = GridSearchCV(estimator = random_forest_model , param_grid = param_grid, cv = 3, n_jobs = -1)"
   ]
  },
  {
   "cell_type": "code",
   "execution_count": 30,
   "id": "c34ec572",
   "metadata": {},
   "outputs": [
    {
     "data": {
      "text/plain": [
       "GridSearchCV(cv=3, estimator=RandomForestClassifier(), n_jobs=-1,\n",
       "             param_grid={'n_estimators': [100, 200, 300]})"
      ]
     },
     "execution_count": 30,
     "metadata": {},
     "output_type": "execute_result"
    }
   ],
   "source": [
    "grid_search.fit(X_train, y_train)"
   ]
  },
  {
   "cell_type": "code",
   "execution_count": 31,
   "id": "346e7074",
   "metadata": {},
   "outputs": [
    {
     "name": "stdout",
     "output_type": "stream",
     "text": [
      "{'n_estimators': 100}\n"
     ]
    }
   ],
   "source": [
    "# optimal number of estimators\n",
    "print(grid_search.best_params_)"
   ]
  },
  {
   "cell_type": "code",
   "execution_count": 32,
   "id": "894b8214",
   "metadata": {},
   "outputs": [
    {
     "name": "stdout",
     "output_type": "stream",
     "text": [
      "0.8097643097643098\n"
     ]
    }
   ],
   "source": [
    "# best Random Forest score\n",
    "print(grid_search.best_score_)"
   ]
  },
  {
   "cell_type": "markdown",
   "id": "5866e645",
   "metadata": {},
   "source": [
    "Summary: Using a grid search, it was determined that using 100 estimators is optimal for the Random Forest model. Given this number of estimators, the model achieved an accuracy score of .8097, slightly higher than the KNN Classifier."
   ]
  },
  {
   "cell_type": "markdown",
   "id": "1b459b57",
   "metadata": {},
   "source": [
    "## Balancing the Dataset "
   ]
  },
  {
   "cell_type": "code",
   "execution_count": 43,
   "id": "886e9c37",
   "metadata": {},
   "outputs": [],
   "source": [
    "from sklearn.metrics import confusion_matrix\n",
    "from sklearn.metrics import plot_confusion_matrix"
   ]
  },
  {
   "cell_type": "code",
   "execution_count": 40,
   "id": "2fd7dadc",
   "metadata": {},
   "outputs": [],
   "source": [
    "random_forest_model = RandomForestClassifier(n_estimators=100)"
   ]
  },
  {
   "cell_type": "code",
   "execution_count": 41,
   "id": "f563d030",
   "metadata": {},
   "outputs": [],
   "source": [
    "random_forest_model.fit(X_train, y_train);"
   ]
  },
  {
   "cell_type": "code",
   "execution_count": 42,
   "id": "30b7bc8f",
   "metadata": {},
   "outputs": [
    {
     "name": "stderr",
     "output_type": "stream",
     "text": [
      "/Users/albertohernandez/opt/anaconda3/lib/python3.9/site-packages/sklearn/utils/deprecation.py:87: FutureWarning: Function plot_confusion_matrix is deprecated; Function `plot_confusion_matrix` is deprecated in 1.0 and will be removed in 1.2. Use one of the class methods: ConfusionMatrixDisplay.from_predictions or ConfusionMatrixDisplay.from_estimator.\n",
      "  warnings.warn(msg, category=FutureWarning)\n"
     ]
    },
    {
     "data": {
      "text/plain": [
       "<sklearn.metrics._plot.confusion_matrix.ConfusionMatrixDisplay at 0x7fa31e0d0be0>"
      ]
     },
     "execution_count": 42,
     "metadata": {},
     "output_type": "execute_result"
    },
    {
     "data": {
      "image/png": "[encoded data removed]",
      "text/plain": [
       "<Figure size 432x288 with 2 Axes>"
      ]
     },
     "metadata": {},
     "output_type": "display_data"
    }
   ],
   "source": [
    "# plotting a confusion matrix for the best performing model\n",
    "plot_confusion_matrix(random_forest_model, X_test, y_test, cmap='Blues')"
   ]
  },
  {
   "cell_type": "code",
   "execution_count": 43,
   "id": "3c674ab3",
   "metadata": {},
   "outputs": [
    {
     "data": {
      "text/plain": [
       "status_group\n",
       "0    32259\n",
       "1     4317\n",
       "2    22824\n",
       "dtype: int64"
      ]
     },
     "execution_count": 43,
     "metadata": {},
     "output_type": "execute_result"
    }
   ],
   "source": [
    "# count of observations in each status group where 0=functional, 1=functional but needs repair, 2=nonfunctional\n",
    "water_pumps.groupby('status_group').size()"
   ]
  },
  {
   "cell_type": "code",
   "execution_count": 21,
   "id": "61f05385",
   "metadata": {},
   "outputs": [],
   "source": [
    "# select all type 1 water pump entries: functional but needs repair\n",
    "balanced_water_pumps = water_pumps.loc[water_pumps.status_group == 1]"
   ]
  },
  {
   "cell_type": "code",
   "execution_count": 24,
   "id": "ad03904f",
   "metadata": {},
   "outputs": [],
   "source": [
    "# select 4317 random type 0 water pump entries: functional\n",
    "type_0_pumps = water_pumps[water_pumps.status_group == 0].sample(n=4317) "
   ]
  },
  {
   "cell_type": "code",
   "execution_count": 27,
   "id": "34ee5590",
   "metadata": {},
   "outputs": [],
   "source": [
    "# combine type 0 and type 1 entries\n",
    "balanced_water_pumps = pd.concat([balanced_water_pumps, type_0_pumps])"
   ]
  },
  {
   "cell_type": "code",
   "execution_count": 29,
   "id": "5e307b79",
   "metadata": {},
   "outputs": [
    {
     "data": {
      "text/plain": [
       "(8634, 13)"
      ]
     },
     "execution_count": 29,
     "metadata": {},
     "output_type": "execute_result"
    }
   ],
   "source": [
    "# check that concatenation was successful\n",
    "balanced_water_pumps.shape"
   ]
  },
  {
   "cell_type": "code",
   "execution_count": 32,
   "id": "b548d586",
   "metadata": {},
   "outputs": [],
   "source": [
    "# select 4317 random type 2 water pump entries: non-functional\n",
    "type_2_pumps = water_pumps[water_pumps.status_group == 2].sample(n=4317) "
   ]
  },
  {
   "cell_type": "code",
   "execution_count": 33,
   "id": "7d7d5d47",
   "metadata": {},
   "outputs": [],
   "source": [
    "# combine type 0, type 1, and type 2 entries to create a balaced dataset\n",
    "balanced_water_pumps = pd.concat([balanced_water_pumps, type_2_pumps])"
   ]
  },
  {
   "cell_type": "code",
   "execution_count": 34,
   "id": "70a85000",
   "metadata": {},
   "outputs": [
    {
     "data": {
      "text/plain": [
       "(12951, 13)"
      ]
     },
     "execution_count": 34,
     "metadata": {},
     "output_type": "execute_result"
    }
   ],
   "source": [
    "# check that concatenation was successful\n",
    "balanced_water_pumps.shape"
   ]
  },
  {
   "cell_type": "code",
   "execution_count": 36,
   "id": "ba74f3ac",
   "metadata": {},
   "outputs": [],
   "source": [
    "array = balanced_water_pumps.values"
   ]
  },
  {
   "cell_type": "code",
   "execution_count": 37,
   "id": "de7b1627",
   "metadata": {},
   "outputs": [],
   "source": [
    "X = array[:, 0:12]\n",
    "y = array[:, 12]"
   ]
  },
  {
   "cell_type": "code",
   "execution_count": 38,
   "id": "f6b21069",
   "metadata": {},
   "outputs": [],
   "source": [
    "# new train and test data generated from balanced dataset\n",
    "X_train, X_test, y_train, y_test = train_test_split(X, y, test_size=0.2, random_state=42)"
   ]
  },
  {
   "cell_type": "code",
   "execution_count": 41,
   "id": "81b135ee",
   "metadata": {},
   "outputs": [],
   "source": [
    "# train the model\n",
    "random_forest_model.fit(X_train, y_train);"
   ]
  },
  {
   "cell_type": "code",
   "execution_count": 46,
   "id": "62f16a35",
   "metadata": {},
   "outputs": [
    {
     "name": "stderr",
     "output_type": "stream",
     "text": [
      "/Users/albertohernandez/opt/anaconda3/lib/python3.9/site-packages/sklearn/utils/deprecation.py:87: FutureWarning: Function plot_confusion_matrix is deprecated; Function `plot_confusion_matrix` is deprecated in 1.0 and will be removed in 1.2. Use one of the class methods: ConfusionMatrixDisplay.from_predictions or ConfusionMatrixDisplay.from_estimator.\n",
      "  warnings.warn(msg, category=FutureWarning)\n"
     ]
    },
    {
     "data": {
      "text/plain": [
       "<sklearn.metrics._plot.confusion_matrix.ConfusionMatrixDisplay at 0x7f9926946220>"
      ]
     },
     "execution_count": 46,
     "metadata": {},
     "output_type": "execute_result"
    },
    {
     "data": {
      "image/png": "[encoded data removed]",
      "text/plain": [
       "<Figure size 432x288 with 2 Axes>"
      ]
     },
     "metadata": {},
     "output_type": "display_data"
    }
   ],
   "source": [
    "# plotting a confusion matrix for the model\n",
    "plot_confusion_matrix(random_forest_model, X_test, y_test, cmap='Blues')"
   ]
  },
  {
   "cell_type": "code",
   "execution_count": 49,
   "id": "4e96e2c6",
   "metadata": {},
   "outputs": [
    {
     "data": {
      "text/plain": [
       "0.7255885758394442"
      ]
     },
     "execution_count": 49,
     "metadata": {},
     "output_type": "execute_result"
    }
   ],
   "source": [
    "# view the accuracy score\n",
    "random_forest_model.score(X_test, y_test)"
   ]
  },
  {
   "cell_type": "markdown",
   "id": "de6bad9d",
   "metadata": {},
   "source": [
    "Summary: The original dataset was imbalanced due to a discrepancy in the number of observations in each of the target classes. For example, observations in the \"functional\" class contained 32259 observations while the \"functional but needs repair\" class only contained 4317 observations. To create a balanced dataset, 4317 observations from each target class were concatenated. As a result, the true positive rate for the balanced dataset was calculated to be .71 for the \"functional but needs repair\" class. In the original dataset, this value was equal to .35, which is significantly lower. Although the true positive rate was improved, the Random Forest model's accuracy decreased from .8097 to .7255"
   ]
  },
  {
   "cell_type": "markdown",
   "id": "e3964a5d",
   "metadata": {},
   "source": [
    "## Fitting Models with Balanced Dataset"
   ]
  },
  {
   "cell_type": "code",
   "execution_count": 52,
   "id": "3ad651eb",
   "metadata": {},
   "outputs": [],
   "source": [
    "from sklearn.svm import SVC"
   ]
  },
  {
   "cell_type": "code",
   "execution_count": 53,
   "id": "e62bff42",
   "metadata": {},
   "outputs": [],
   "source": [
    "models = []\n",
    "models.append(('LR', LogisticRegression(solver='liblinear')))\n",
    "models.append(('LDA', LinearDiscriminantAnalysis()))\n",
    "models.append(('KNN', KNeighborsClassifier()))\n",
    "models.append(('CART', DecisionTreeClassifier()))\n",
    "models.append(('NB', GaussianNB()))\n",
    "models.append(('SVM', SVC(gamma='auto')))"
   ]
  },
  {
   "cell_type": "code",
   "execution_count": 54,
   "id": "7b211f0f",
   "metadata": {},
   "outputs": [],
   "source": [
    "num_folds = 5\n",
    "seed = 42\n",
    "scoring = 'accuracy'"
   ]
  },
  {
   "cell_type": "code",
   "execution_count": 55,
   "id": "7222ed89",
   "metadata": {},
   "outputs": [
    {
     "name": "stdout",
     "output_type": "stream",
     "text": [
      "LR: 0.612645 (0.005319)\n",
      "LDA: 0.623842 (0.009401)\n",
      "KNN: 0.672008 (0.013876)\n",
      "CART: 0.672394 (0.014335)\n",
      "NB: 0.602896 (0.004830)\n",
      "SVM: 0.662355 (0.006558)\n"
     ]
    }
   ],
   "source": [
    "results = []\n",
    "names = []\n",
    "for name, model in models:\n",
    "    kfold = KFold(n_splits=num_folds, random_state=seed, shuffle=True)\n",
    "    cv_results = cross_val_score(model, X_train, y_train, cv=kfold, scoring=scoring)\n",
    "    results.append(cv_results)\n",
    "    names.append(name)\n",
    "    msg = \"%s: %f (%f)\" % (name, cv_results.mean(), cv_results.std())\n",
    "    print(msg)"
   ]
  },
  {
   "cell_type": "markdown",
   "id": "78f4ddbc",
   "metadata": {},
   "source": [
    "Summary: balancing the dataset had a detrimental effect on the accuracy of the models. Perhaps a balanced dataset with more observations in each status group would lead to a better performance."
   ]
  }
 ],
 "metadata": {
  "kernelspec": {
   "display_name": "Python 3 (ipykernel)",
   "language": "python",
   "name": "python3"
  },
  "language_info": {
   "codemirror_mode": {
    "name": "ipython",
    "version": 3
   },
   "file_extension": ".py",
   "mimetype": "text/x-python",
   "name": "python",
   "nbconvert_exporter": "python",
   "pygments_lexer": "ipython3",
   "version": "3.9.7"
  }
 },
 "nbformat": 4,
 "nbformat_minor": 5
}
